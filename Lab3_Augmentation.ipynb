{
  "nbformat": 4,
  "nbformat_minor": 0,
  "metadata": {
    "colab": {
      "name": "Lab3_Augmentation.ipynb",
      "provenance": [],
      "collapsed_sections": [],
      "include_colab_link": true
    },
    "kernelspec": {
      "name": "python3",
      "display_name": "Python 3"
    },
    "language_info": {
      "name": "python"
    }
  },
  "cells": [
    {
      "cell_type": "markdown",
      "metadata": {
        "id": "view-in-github",
        "colab_type": "text"
      },
      "source": [
        "<a href=\"https://colab.research.google.com/github/xander412/fmml2021/blob/main/Lab3_Augmentation.ipynb\" target=\"_parent\"><img src=\"https://colab.research.google.com/assets/colab-badge.svg\" alt=\"Open In Colab\"/></a>"
      ]
    },
    {
      "cell_type": "markdown",
      "metadata": {
        "id": "w3yfry25JgZK"
      },
      "source": [
        "# Data augmentation\n",
        "\n",
        "FMML Module 1, Lab 3<br>\n",
        " Module Coordinator: Thrupthi Ann John thrupthi.ann@research.iiit.ac.in <br>\n",
        " Release date: 18 October 2021 <br>\n",
        "\n",
        " In this lab, we will see how augmentation of data samples help in improving the machine learning performance"
      ]
    },
    {
      "cell_type": "code",
      "metadata": {
        "id": "xZU8_elooqP0"
      },
      "source": [
        "import numpy as np\n",
        "import matplotlib.pyplot as plt\n",
        "from keras.datasets import mnist\n",
        "# set randomseed\n",
        "rng = np.random.default_rng(seed=42)\n",
        "from sklearn.utils.extmath import cartesian\n",
        "from skimage.transform import rotate, AffineTransform, warp\n",
        "import math"
      ],
      "execution_count": 17,
      "outputs": []
    },
    {
      "cell_type": "markdown",
      "metadata": {
        "id": "T5pHYogSMHiE"
      },
      "source": [
        "Augmentation is useful when we have less training data available. Augmentation allows us to 'create' a larger dataset programatically. \n",
        "\n",
        "For this lab we will use a subset of MNIST that is very small, to better understand the effect of augmentation. "
      ]
    },
    {
      "cell_type": "code",
      "metadata": {
        "id": "gJvmWJ58ovx5"
      },
      "source": [
        "#loading the dataset\n",
        "(train_X, train_y), (test_X, test_y) = mnist.load_data()\n",
        "train_X = train_X/255\n",
        "test_X = test_X/255\n",
        "\n",
        "train_X = train_X[::1200,:,:].copy() # subsample. Otherwise it will take too long!\n",
        "train_y = train_y[::1200].copy() # do the same to the labels\n"
      ],
      "execution_count": 18,
      "outputs": []
    },
    {
      "cell_type": "code",
      "metadata": {
        "id": "sbSSdo2GvYL7"
      },
      "source": [
        ""
      ],
      "execution_count": null,
      "outputs": []
    },
    {
      "cell_type": "markdown",
      "metadata": {
        "id": "8XamH6z1Rt7S"
      },
      "source": [
        "Let us borrow a few functions from the previous labs:"
      ]
    },
    {
      "cell_type": "code",
      "metadata": {
        "id": "Zk2W5_3BRLMS"
      },
      "source": [
        "def NN1(traindata, trainlabel, query):\n",
        "  diff  = traindata - query  # find the difference between features. Numpy automatically takes care of the size here \n",
        "  sq = diff*diff # square the differences\n",
        "  dist = sq.sum(1) # add up the squares\n",
        "  label = trainlabel[np.argmin(dist)] # our predicted label is the label of the training data which has the least distance from the query\n",
        "  return label\n",
        "\n",
        "def NN(traindata, trainlabel, testdata):\n",
        "  # we will run nearest neighbour for each sample in the test data \n",
        "  # and collect the predicted classes in an array using list comprehension\n",
        "  traindata = traindata.reshape(-1, 28*28)\n",
        "  testdata = testdata.reshape(-1,28*28)\n",
        "  predlabel = np.array([NN1(traindata, trainlabel, i) for i in testdata])\n",
        "  return predlabel\n",
        "\n",
        "def Accuracy(gtlabel, predlabel):\n",
        "  assert len(gtlabel)==len(predlabel), \"Length of the groundtruth labels and predicted labels should be the same\"\n",
        "  correct = (gtlabel==predlabel).sum() # count the number of times the groundtruth label is equal to the predicted label.\n",
        "  return correct/len(gtlabel)"
      ],
      "execution_count": 19,
      "outputs": []
    },
    {
      "cell_type": "markdown",
      "metadata": {
        "id": "eGiA3LmDSJZo"
      },
      "source": [
        "In this lab, we will use the image pixels themselves as features, instead of extracting features. Each image has 28*28 pixels, so we will flatten them to 784 pixels to use as features. Note that this is very compute intensive and will take a long time.<br>\n",
        "\n",
        "Let us check the baseline accuracy on the test set without any augmentations. We hope that adding augmentations will help us to get better results."
      ]
    },
    {
      "cell_type": "code",
      "metadata": {
        "id": "TYJNsUt6BAsw",
        "outputId": "17c1e0d0-5b9d-429c-ef7d-927054355bbc",
        "colab": {
          "base_uri": "https://localhost:8080/"
        }
      },
      "source": [
        "NN(train_X, train_y, test_X)"
      ],
      "execution_count": 23,
      "outputs": [
        {
          "output_type": "execute_result",
          "data": {
            "text/plain": [
              "array([7, 2, 1, ..., 9, 9, 6], dtype=uint8)"
            ]
          },
          "metadata": {},
          "execution_count": 23
        }
      ]
    },
    {
      "cell_type": "code",
      "metadata": {
        "id": "4tQvnoasRNEV",
        "outputId": "13949e97-0872-4f6d-c156-1d2273fed6b0",
        "colab": {
          "base_uri": "https://localhost:8080/"
        }
      },
      "source": [
        "testpred = NN(train_X, train_y, test_X)\n",
        "print('Baseline accuracy without augmentation is ', Accuracy(test_y, testpred))"
      ],
      "execution_count": 24,
      "outputs": [
        {
          "output_type": "stream",
          "name": "stdout",
          "text": [
            "Baseline accuracy without augmentation is  0.6472\n"
          ]
        }
      ]
    },
    {
      "cell_type": "markdown",
      "metadata": {
        "id": "ZfkcMfhIZQ7U"
      },
      "source": [
        "Let us try to improve this accuracy using augmentations. When we create augmentations, we have to make sure that the changes reflect what will naturally occur in the dataset. For example, we should not add colour to our samples as an augmentation because they do not naturally occur. We should not also flip the images in MNIST, because flipped images have different meanings for digits. \n",
        "\n",
        "### Augmentation 1: rotation\n",
        "\n",
        "Let us try rotating the image a little. We will use skimage library for this. "
      ]
    },
    {
      "cell_type": "code",
      "metadata": {
        "id": "z5WolJ9fZE7L",
        "outputId": "8ee4eaa7-03f9-4b95-fc62-51850171d836",
        "colab": {
          "base_uri": "https://localhost:8080/",
          "height": 530
        }
      },
      "source": [
        "plt.imshow(train_X[2], cmap='gray')\n",
        "plt.show()\n",
        "plt.imshow(rotate(train_X[2],45), cmap='gray')"
      ],
      "execution_count": 25,
      "outputs": [
        {
          "output_type": "display_data",
          "data": {
            "image/png": "[encoded data removed]",
            "text/plain": [
              "<Figure size 432x288 with 1 Axes>"
            ]
          },
          "metadata": {
            "needs_background": "light"
          }
        },
        {
          "output_type": "execute_result",
          "data": {
            "text/plain": [
              "<matplotlib.image.AxesImage at 0x7f7baae215d0>"
            ]
          },
          "metadata": {},
          "execution_count": 25
        },
        {
          "output_type": "display_data",
          "data": {
            "image/png": "[encoded data removed]",
            "text/plain": [
              "<Figure size 432x288 with 1 Axes>"
            ]
          },
          "metadata": {
            "needs_background": "light"
          }
        }
      ]
    },
    {
      "cell_type": "markdown",
      "metadata": {
        "id": "KE33Yxgggu0c"
      },
      "source": [
        "After rotating, the the class of the image is still the same. Let us make a function to rotate multiple images by random angles. We want a slightly different image every time we run this function. So, we generate a random number between 0 and 1 and change it so that it lies between -constraint/2 and +constraint/2"
      ]
    },
    {
      "cell_type": "code",
      "metadata": {
        "id": "vyM7pUV7Reze"
      },
      "source": [
        "def augRotate(sample, angleconstraint):\n",
        "  if angleconstraint==0:\n",
        "    return sample\n",
        "  if len(sample.shape)==2:\n",
        "    sample = np.expand_dims(sample, 0)  # make sure the sample is 3 dimensional\n",
        "  angle = rng.random(len(sample)) # generate random numbers for angles\n",
        "  angle = (angle-0.5)*angleconstraint # make the random angle constrained\n",
        "  nsample = sample.copy() # preallocate the augmented array to make it faster\n",
        "  for ii in range(len(sample)):\n",
        "    nsample[ii] = rotate(sample[ii], angle[ii])\n",
        "  return np.squeeze(nsample) # take care if the input had only one sample."
      ],
      "execution_count": 26,
      "outputs": []
    },
    {
      "cell_type": "code",
      "metadata": {
        "id": "HyINQ3K2Fupq",
        "outputId": "ddff4bcf-ae1e-427f-8afa-f6e8c62c5217",
        "colab": {
          "base_uri": "https://localhost:8080/"
        }
      },
      "source": [
        "augRotate(train_X, 45)"
      ],
      "execution_count": 31,
      "outputs": [
        {
          "output_type": "execute_result",
          "data": {
            "text/plain": [
              "array([[[0., 0., 0., ..., 0., 0., 0.],\n",
              "        [0., 0., 0., ..., 0., 0., 0.],\n",
              "        [0., 0., 0., ..., 0., 0., 0.],\n",
              "        ...,\n",
              "        [0., 0., 0., ..., 0., 0., 0.],\n",
              "        [0., 0., 0., ..., 0., 0., 0.],\n",
              "        [0., 0., 0., ..., 0., 0., 0.]],\n",
              "\n",
              "       [[0., 0., 0., ..., 0., 0., 0.],\n",
              "        [0., 0., 0., ..., 0., 0., 0.],\n",
              "        [0., 0., 0., ..., 0., 0., 0.],\n",
              "        ...,\n",
              "        [0., 0., 0., ..., 0., 0., 0.],\n",
              "        [0., 0., 0., ..., 0., 0., 0.],\n",
              "        [0., 0., 0., ..., 0., 0., 0.]],\n",
              "\n",
              "       [[0., 0., 0., ..., 0., 0., 0.],\n",
              "        [0., 0., 0., ..., 0., 0., 0.],\n",
              "        [0., 0., 0., ..., 0., 0., 0.],\n",
              "        ...,\n",
              "        [0., 0., 0., ..., 0., 0., 0.],\n",
              "        [0., 0., 0., ..., 0., 0., 0.],\n",
              "        [0., 0., 0., ..., 0., 0., 0.]],\n",
              "\n",
              "       ...,\n",
              "\n",
              "       [[0., 0., 0., ..., 0., 0., 0.],\n",
              "        [0., 0., 0., ..., 0., 0., 0.],\n",
              "        [0., 0., 0., ..., 0., 0., 0.],\n",
              "        ...,\n",
              "        [0., 0., 0., ..., 0., 0., 0.],\n",
              "        [0., 0., 0., ..., 0., 0., 0.],\n",
              "        [0., 0., 0., ..., 0., 0., 0.]],\n",
              "\n",
              "       [[0., 0., 0., ..., 0., 0., 0.],\n",
              "        [0., 0., 0., ..., 0., 0., 0.],\n",
              "        [0., 0., 0., ..., 0., 0., 0.],\n",
              "        ...,\n",
              "        [0., 0., 0., ..., 0., 0., 0.],\n",
              "        [0., 0., 0., ..., 0., 0., 0.],\n",
              "        [0., 0., 0., ..., 0., 0., 0.]],\n",
              "\n",
              "       [[0., 0., 0., ..., 0., 0., 0.],\n",
              "        [0., 0., 0., ..., 0., 0., 0.],\n",
              "        [0., 0., 0., ..., 0., 0., 0.],\n",
              "        ...,\n",
              "        [0., 0., 0., ..., 0., 0., 0.],\n",
              "        [0., 0., 0., ..., 0., 0., 0.],\n",
              "        [0., 0., 0., ..., 0., 0., 0.]]])"
            ]
          },
          "metadata": {},
          "execution_count": 31
        }
      ]
    },
    {
      "cell_type": "markdown",
      "metadata": {
        "id": "kDk-N5VNjar9"
      },
      "source": [
        "This function returns a slightly different image each time we call it. So we can increase the number of images in the sample by any multiple. "
      ]
    },
    {
      "cell_type": "code",
      "metadata": {
        "id": "Vw3O9zGFgI8K",
        "outputId": "d07acbc6-8e42-4577-a8c7-4ca8e9ee5afe",
        "colab": {
          "base_uri": "https://localhost:8080/",
          "height": 414
        }
      },
      "source": [
        "sample = train_X[20]\n",
        "angleconstraint = 70\n",
        "# show the original image\n",
        "plt.imshow(sample, cmap='gray')\n",
        "plt.show()\n",
        "plt.subplot(1,3,1)\n",
        "plt.imshow(augRotate(sample, angleconstraint), cmap='gray') # show an augmented image\n",
        "plt.subplot(1,3,2)\n",
        "plt.imshow(augRotate(sample, angleconstraint), cmap='gray') # show another augmented image from the same sample\n",
        "plt.subplot(1,3,3)\n",
        "plt.imshow(augRotate(sample, angleconstraint), cmap='gray') # one more image from the same sample"
      ],
      "execution_count": 27,
      "outputs": [
        {
          "output_type": "display_data",
          "data": {
            "image/png": "[encoded data removed]",
            "text/plain": [
              "<Figure size 432x288 with 1 Axes>"
            ]
          },
          "metadata": {
            "needs_background": "light"
          }
        },
        {
          "output_type": "execute_result",
          "data": {
            "text/plain": [
              "<matplotlib.image.AxesImage at 0x7f7baad8b290>"
            ]
          },
          "metadata": {},
          "execution_count": 27
        },
        {
          "output_type": "display_data",
          "data": {
            "image/png": "[encoded data removed]",
            "text/plain": [
              "<Figure size 432x288 with 3 Axes>"
            ]
          },
          "metadata": {
            "needs_background": "light"
          }
        }
      ]
    },
    {
      "cell_type": "markdown",
      "metadata": {
        "id": "ytv3NxF-kgxN"
      },
      "source": [
        "Let us augment the whole dataset and see if this improves the test accuracy"
      ]
    },
    {
      "cell_type": "code",
      "metadata": {
        "id": "iNzNAoDBkRzj"
      },
      "source": [
        "def augmentedTrain(angleconstraint, nagumentations):\n",
        "    # hyperparameters\n",
        "    augdata = train_X # we include the original images also in the augmented dataset\n",
        "    auglabel = train_y\n",
        "    for ii in range(naugmentations):\n",
        "        augdata = np.concatenate((augdata, augRotate(train_X, angleconstraint))) # concatenate the augmented data to the set\n",
        "        auglabel = np.concatenate((auglabel, train_y))  # the labels don't change when we augmen\n",
        "    # check the test accuracy\n",
        "    testpred = NN(augdata, auglabel, test_X)\n",
        "    acc = Accuracy(test_y, testpred)\n",
        "    print('Accuracy after rotation augmentation is ', acc)\n",
        "    return acc"
      ],
      "execution_count": 39,
      "outputs": []
    },
    {
      "cell_type": "code",
      "metadata": {
        "id": "TzWIWvOmjBjC"
      },
      "source": [
        ""
      ],
      "execution_count": null,
      "outputs": []
    },
    {
      "cell_type": "code",
      "metadata": {
        "id": "dg3gXMLcFsTK",
        "outputId": "bf31e04a-1db3-4de1-91a2-2c26d5ae42c7",
        "colab": {
          "base_uri": "https://localhost:8080/"
        }
      },
      "source": [
        "accuracyDict = {}\n",
        "for x in range(50, 100):\n",
        "    for y in range(1,10):\n",
        "        accuracyDict[f'{x}, {y}'] = augmentedTrain(x, y)"
      ],
      "execution_count": 42,
      "outputs": [
        {
          "output_type": "stream",
          "name": "stdout",
          "text": [
            "Accuracy after rotation augmentation is  0.6712\n",
            "Accuracy after rotation augmentation is  0.6776\n",
            "Accuracy after rotation augmentation is  0.6728\n",
            "Accuracy after rotation augmentation is  0.6764\n",
            "Accuracy after rotation augmentation is  0.6627\n",
            "Accuracy after rotation augmentation is  0.6622\n",
            "Accuracy after rotation augmentation is  0.6686\n",
            "Accuracy after rotation augmentation is  0.6742\n",
            "Accuracy after rotation augmentation is  0.6734\n",
            "Accuracy after rotation augmentation is  0.6759\n",
            "Accuracy after rotation augmentation is  0.6675\n",
            "Accuracy after rotation augmentation is  0.6804\n",
            "Accuracy after rotation augmentation is  0.6731\n",
            "Accuracy after rotation augmentation is  0.6723\n",
            "Accuracy after rotation augmentation is  0.6619\n",
            "Accuracy after rotation augmentation is  0.6732\n",
            "Accuracy after rotation augmentation is  0.6746\n",
            "Accuracy after rotation augmentation is  0.6724\n",
            "Accuracy after rotation augmentation is  0.6722\n",
            "Accuracy after rotation augmentation is  0.6699\n",
            "Accuracy after rotation augmentation is  0.6747\n",
            "Accuracy after rotation augmentation is  0.6747\n",
            "Accuracy after rotation augmentation is  0.6622\n",
            "Accuracy after rotation augmentation is  0.6768\n",
            "Accuracy after rotation augmentation is  0.6697\n",
            "Accuracy after rotation augmentation is  0.6796\n",
            "Accuracy after rotation augmentation is  0.6769\n",
            "Accuracy after rotation augmentation is  0.6732\n",
            "Accuracy after rotation augmentation is  0.6595\n",
            "Accuracy after rotation augmentation is  0.6631\n",
            "Accuracy after rotation augmentation is  0.6678\n",
            "Accuracy after rotation augmentation is  0.6658\n",
            "Accuracy after rotation augmentation is  0.6836\n",
            "Accuracy after rotation augmentation is  0.663\n",
            "Accuracy after rotation augmentation is  0.6582\n",
            "Accuracy after rotation augmentation is  0.6703\n",
            "Accuracy after rotation augmentation is  0.6793\n",
            "Accuracy after rotation augmentation is  0.6694\n",
            "Accuracy after rotation augmentation is  0.677\n",
            "Accuracy after rotation augmentation is  0.6761\n",
            "Accuracy after rotation augmentation is  0.6707\n",
            "Accuracy after rotation augmentation is  0.6626\n",
            "Accuracy after rotation augmentation is  0.6689\n",
            "Accuracy after rotation augmentation is  0.6712\n",
            "Accuracy after rotation augmentation is  0.6687\n",
            "Accuracy after rotation augmentation is  0.6765\n",
            "Accuracy after rotation augmentation is  0.6722\n",
            "Accuracy after rotation augmentation is  0.664\n",
            "Accuracy after rotation augmentation is  0.6735\n",
            "Accuracy after rotation augmentation is  0.6728\n",
            "Accuracy after rotation augmentation is  0.6707\n",
            "Accuracy after rotation augmentation is  0.6622\n",
            "Accuracy after rotation augmentation is  0.6758\n",
            "Accuracy after rotation augmentation is  0.6745\n",
            "Accuracy after rotation augmentation is  0.6617\n",
            "Accuracy after rotation augmentation is  0.6542\n",
            "Accuracy after rotation augmentation is  0.6784\n",
            "Accuracy after rotation augmentation is  0.668\n",
            "Accuracy after rotation augmentation is  0.6575\n",
            "Accuracy after rotation augmentation is  0.6718\n",
            "Accuracy after rotation augmentation is  0.6786\n",
            "Accuracy after rotation augmentation is  0.6637\n",
            "Accuracy after rotation augmentation is  0.6607\n",
            "Accuracy after rotation augmentation is  0.6689\n",
            "Accuracy after rotation augmentation is  0.6579\n",
            "Accuracy after rotation augmentation is  0.6761\n",
            "Accuracy after rotation augmentation is  0.6653\n",
            "Accuracy after rotation augmentation is  0.6656\n",
            "Accuracy after rotation augmentation is  0.6725\n",
            "Accuracy after rotation augmentation is  0.6676\n",
            "Accuracy after rotation augmentation is  0.6734\n",
            "Accuracy after rotation augmentation is  0.6825\n",
            "Accuracy after rotation augmentation is  0.6647\n",
            "Accuracy after rotation augmentation is  0.6765\n",
            "Accuracy after rotation augmentation is  0.6703\n",
            "Accuracy after rotation augmentation is  0.6664\n",
            "Accuracy after rotation augmentation is  0.6565\n",
            "Accuracy after rotation augmentation is  0.6626\n",
            "Accuracy after rotation augmentation is  0.67\n",
            "Accuracy after rotation augmentation is  0.6731\n",
            "Accuracy after rotation augmentation is  0.6598\n",
            "Accuracy after rotation augmentation is  0.6626\n",
            "Accuracy after rotation augmentation is  0.6653\n",
            "Accuracy after rotation augmentation is  0.6625\n",
            "Accuracy after rotation augmentation is  0.6679\n",
            "Accuracy after rotation augmentation is  0.6658\n",
            "Accuracy after rotation augmentation is  0.6671\n",
            "Accuracy after rotation augmentation is  0.658\n",
            "Accuracy after rotation augmentation is  0.66\n",
            "Accuracy after rotation augmentation is  0.6644\n",
            "Accuracy after rotation augmentation is  0.6724\n",
            "Accuracy after rotation augmentation is  0.6752\n",
            "Accuracy after rotation augmentation is  0.6726\n",
            "Accuracy after rotation augmentation is  0.6659\n",
            "Accuracy after rotation augmentation is  0.6768\n",
            "Accuracy after rotation augmentation is  0.6647\n",
            "Accuracy after rotation augmentation is  0.6753\n",
            "Accuracy after rotation augmentation is  0.6683\n",
            "Accuracy after rotation augmentation is  0.6618\n",
            "Accuracy after rotation augmentation is  0.6704\n",
            "Accuracy after rotation augmentation is  0.67\n",
            "Accuracy after rotation augmentation is  0.6713\n",
            "Accuracy after rotation augmentation is  0.6529\n",
            "Accuracy after rotation augmentation is  0.6673\n",
            "Accuracy after rotation augmentation is  0.6787\n",
            "Accuracy after rotation augmentation is  0.6695\n",
            "Accuracy after rotation augmentation is  0.6525\n",
            "Accuracy after rotation augmentation is  0.6649\n",
            "Accuracy after rotation augmentation is  0.6656\n",
            "Accuracy after rotation augmentation is  0.6654\n",
            "Accuracy after rotation augmentation is  0.6629\n",
            "Accuracy after rotation augmentation is  0.6573\n",
            "Accuracy after rotation augmentation is  0.6653\n",
            "Accuracy after rotation augmentation is  0.6619\n",
            "Accuracy after rotation augmentation is  0.6673\n",
            "Accuracy after rotation augmentation is  0.6679\n",
            "Accuracy after rotation augmentation is  0.6678\n",
            "Accuracy after rotation augmentation is  0.667\n",
            "Accuracy after rotation augmentation is  0.6716\n",
            "Accuracy after rotation augmentation is  0.6633\n",
            "Accuracy after rotation augmentation is  0.6662\n",
            "Accuracy after rotation augmentation is  0.6705\n",
            "Accuracy after rotation augmentation is  0.6644\n",
            "Accuracy after rotation augmentation is  0.6535\n",
            "Accuracy after rotation augmentation is  0.6684\n",
            "Accuracy after rotation augmentation is  0.663\n",
            "Accuracy after rotation augmentation is  0.6646\n",
            "Accuracy after rotation augmentation is  0.669\n",
            "Accuracy after rotation augmentation is  0.652\n",
            "Accuracy after rotation augmentation is  0.6443\n",
            "Accuracy after rotation augmentation is  0.6527\n",
            "Accuracy after rotation augmentation is  0.6674\n",
            "Accuracy after rotation augmentation is  0.6631\n",
            "Accuracy after rotation augmentation is  0.6582\n",
            "Accuracy after rotation augmentation is  0.6654\n",
            "Accuracy after rotation augmentation is  0.6588\n",
            "Accuracy after rotation augmentation is  0.6572\n",
            "Accuracy after rotation augmentation is  0.6509\n",
            "Accuracy after rotation augmentation is  0.6625\n",
            "Accuracy after rotation augmentation is  0.6638\n",
            "Accuracy after rotation augmentation is  0.6575\n",
            "Accuracy after rotation augmentation is  0.6638\n",
            "Accuracy after rotation augmentation is  0.6611\n",
            "Accuracy after rotation augmentation is  0.664\n",
            "Accuracy after rotation augmentation is  0.6649\n",
            "Accuracy after rotation augmentation is  0.6585\n",
            "Accuracy after rotation augmentation is  0.6676\n",
            "Accuracy after rotation augmentation is  0.6614\n",
            "Accuracy after rotation augmentation is  0.6575\n",
            "Accuracy after rotation augmentation is  0.6483\n",
            "Accuracy after rotation augmentation is  0.6751\n",
            "Accuracy after rotation augmentation is  0.6737\n",
            "Accuracy after rotation augmentation is  0.6585\n",
            "Accuracy after rotation augmentation is  0.6598\n",
            "Accuracy after rotation augmentation is  0.664\n",
            "Accuracy after rotation augmentation is  0.6697\n",
            "Accuracy after rotation augmentation is  0.6687\n",
            "Accuracy after rotation augmentation is  0.6645\n",
            "Accuracy after rotation augmentation is  0.6457\n",
            "Accuracy after rotation augmentation is  0.6587\n",
            "Accuracy after rotation augmentation is  0.6426\n",
            "Accuracy after rotation augmentation is  0.6701\n",
            "Accuracy after rotation augmentation is  0.6699\n",
            "Accuracy after rotation augmentation is  0.6641\n",
            "Accuracy after rotation augmentation is  0.6542\n",
            "Accuracy after rotation augmentation is  0.6563\n",
            "Accuracy after rotation augmentation is  0.6604\n",
            "Accuracy after rotation augmentation is  0.6641\n",
            "Accuracy after rotation augmentation is  0.6627\n",
            "Accuracy after rotation augmentation is  0.6616\n",
            "Accuracy after rotation augmentation is  0.6569\n",
            "Accuracy after rotation augmentation is  0.6594\n",
            "Accuracy after rotation augmentation is  0.6524\n",
            "Accuracy after rotation augmentation is  0.6637\n",
            "Accuracy after rotation augmentation is  0.6593\n",
            "Accuracy after rotation augmentation is  0.6654\n",
            "Accuracy after rotation augmentation is  0.656\n",
            "Accuracy after rotation augmentation is  0.6666\n",
            "Accuracy after rotation augmentation is  0.6634\n",
            "Accuracy after rotation augmentation is  0.663\n",
            "Accuracy after rotation augmentation is  0.6679\n",
            "Accuracy after rotation augmentation is  0.651\n",
            "Accuracy after rotation augmentation is  0.6675\n",
            "Accuracy after rotation augmentation is  0.6607\n",
            "Accuracy after rotation augmentation is  0.6649\n",
            "Accuracy after rotation augmentation is  0.654\n",
            "Accuracy after rotation augmentation is  0.6678\n",
            "Accuracy after rotation augmentation is  0.6553\n",
            "Accuracy after rotation augmentation is  0.6579\n",
            "Accuracy after rotation augmentation is  0.6572\n",
            "Accuracy after rotation augmentation is  0.6623\n",
            "Accuracy after rotation augmentation is  0.6608\n",
            "Accuracy after rotation augmentation is  0.6513\n",
            "Accuracy after rotation augmentation is  0.6446\n",
            "Accuracy after rotation augmentation is  0.6559\n",
            "Accuracy after rotation augmentation is  0.6597\n",
            "Accuracy after rotation augmentation is  0.667\n",
            "Accuracy after rotation augmentation is  0.6559\n",
            "Accuracy after rotation augmentation is  0.6592\n",
            "Accuracy after rotation augmentation is  0.6689\n",
            "Accuracy after rotation augmentation is  0.66\n",
            "Accuracy after rotation augmentation is  0.658\n",
            "Accuracy after rotation augmentation is  0.6592\n",
            "Accuracy after rotation augmentation is  0.6563\n",
            "Accuracy after rotation augmentation is  0.6731\n",
            "Accuracy after rotation augmentation is  0.6613\n",
            "Accuracy after rotation augmentation is  0.6698\n",
            "Accuracy after rotation augmentation is  0.6632\n",
            "Accuracy after rotation augmentation is  0.663\n",
            "Accuracy after rotation augmentation is  0.6619\n",
            "Accuracy after rotation augmentation is  0.6602\n",
            "Accuracy after rotation augmentation is  0.6612\n",
            "Accuracy after rotation augmentation is  0.6519\n",
            "Accuracy after rotation augmentation is  0.651\n",
            "Accuracy after rotation augmentation is  0.6671\n",
            "Accuracy after rotation augmentation is  0.6619\n",
            "Accuracy after rotation augmentation is  0.6615\n",
            "Accuracy after rotation augmentation is  0.6552\n",
            "Accuracy after rotation augmentation is  0.6525\n",
            "Accuracy after rotation augmentation is  0.6611\n",
            "Accuracy after rotation augmentation is  0.6604\n",
            "Accuracy after rotation augmentation is  0.6577\n",
            "Accuracy after rotation augmentation is  0.6707\n",
            "Accuracy after rotation augmentation is  0.6504\n",
            "Accuracy after rotation augmentation is  0.6481\n",
            "Accuracy after rotation augmentation is  0.6664\n",
            "Accuracy after rotation augmentation is  0.6549\n",
            "Accuracy after rotation augmentation is  0.6739\n",
            "Accuracy after rotation augmentation is  0.6605\n",
            "Accuracy after rotation augmentation is  0.6613\n",
            "Accuracy after rotation augmentation is  0.657\n",
            "Accuracy after rotation augmentation is  0.6573\n",
            "Accuracy after rotation augmentation is  0.6571\n",
            "Accuracy after rotation augmentation is  0.6697\n",
            "Accuracy after rotation augmentation is  0.6445\n",
            "Accuracy after rotation augmentation is  0.6556\n",
            "Accuracy after rotation augmentation is  0.6687\n",
            "Accuracy after rotation augmentation is  0.6554\n",
            "Accuracy after rotation augmentation is  0.6504\n",
            "Accuracy after rotation augmentation is  0.663\n",
            "Accuracy after rotation augmentation is  0.6581\n",
            "Accuracy after rotation augmentation is  0.6537\n",
            "Accuracy after rotation augmentation is  0.6618\n",
            "Accuracy after rotation augmentation is  0.6591\n",
            "Accuracy after rotation augmentation is  0.6432\n",
            "Accuracy after rotation augmentation is  0.6453\n",
            "Accuracy after rotation augmentation is  0.655\n",
            "Accuracy after rotation augmentation is  0.6699\n",
            "Accuracy after rotation augmentation is  0.6577\n",
            "Accuracy after rotation augmentation is  0.6603\n",
            "Accuracy after rotation augmentation is  0.6579\n",
            "Accuracy after rotation augmentation is  0.6643\n",
            "Accuracy after rotation augmentation is  0.6617\n",
            "Accuracy after rotation augmentation is  0.6646\n",
            "Accuracy after rotation augmentation is  0.657\n",
            "Accuracy after rotation augmentation is  0.6554\n",
            "Accuracy after rotation augmentation is  0.6564\n",
            "Accuracy after rotation augmentation is  0.6582\n",
            "Accuracy after rotation augmentation is  0.6575\n",
            "Accuracy after rotation augmentation is  0.6563\n",
            "Accuracy after rotation augmentation is  0.6627\n",
            "Accuracy after rotation augmentation is  0.6645\n",
            "Accuracy after rotation augmentation is  0.6642\n",
            "Accuracy after rotation augmentation is  0.6463\n",
            "Accuracy after rotation augmentation is  0.6569\n",
            "Accuracy after rotation augmentation is  0.6593\n",
            "Accuracy after rotation augmentation is  0.6415\n",
            "Accuracy after rotation augmentation is  0.6583\n",
            "Accuracy after rotation augmentation is  0.6716\n",
            "Accuracy after rotation augmentation is  0.6501\n",
            "Accuracy after rotation augmentation is  0.6595\n",
            "Accuracy after rotation augmentation is  0.6651\n",
            "Accuracy after rotation augmentation is  0.6638\n",
            "Accuracy after rotation augmentation is  0.6489\n",
            "Accuracy after rotation augmentation is  0.643\n",
            "Accuracy after rotation augmentation is  0.6575\n",
            "Accuracy after rotation augmentation is  0.67\n",
            "Accuracy after rotation augmentation is  0.6607\n",
            "Accuracy after rotation augmentation is  0.6545\n",
            "Accuracy after rotation augmentation is  0.6547\n",
            "Accuracy after rotation augmentation is  0.657\n",
            "Accuracy after rotation augmentation is  0.6525\n",
            "Accuracy after rotation augmentation is  0.6551\n",
            "Accuracy after rotation augmentation is  0.6521\n",
            "Accuracy after rotation augmentation is  0.664\n",
            "Accuracy after rotation augmentation is  0.672\n",
            "Accuracy after rotation augmentation is  0.6563\n",
            "Accuracy after rotation augmentation is  0.6626\n",
            "Accuracy after rotation augmentation is  0.6547\n",
            "Accuracy after rotation augmentation is  0.6603\n",
            "Accuracy after rotation augmentation is  0.6635\n",
            "Accuracy after rotation augmentation is  0.6495\n",
            "Accuracy after rotation augmentation is  0.6556\n",
            "Accuracy after rotation augmentation is  0.6497\n",
            "Accuracy after rotation augmentation is  0.6628\n",
            "Accuracy after rotation augmentation is  0.6615\n",
            "Accuracy after rotation augmentation is  0.6631\n",
            "Accuracy after rotation augmentation is  0.6675\n",
            "Accuracy after rotation augmentation is  0.6539\n",
            "Accuracy after rotation augmentation is  0.6461\n",
            "Accuracy after rotation augmentation is  0.6533\n",
            "Accuracy after rotation augmentation is  0.6442\n",
            "Accuracy after rotation augmentation is  0.6659\n",
            "Accuracy after rotation augmentation is  0.6591\n",
            "Accuracy after rotation augmentation is  0.6536\n",
            "Accuracy after rotation augmentation is  0.6417\n",
            "Accuracy after rotation augmentation is  0.6447\n",
            "Accuracy after rotation augmentation is  0.6509\n",
            "Accuracy after rotation augmentation is  0.6609\n",
            "Accuracy after rotation augmentation is  0.6494\n",
            "Accuracy after rotation augmentation is  0.6532\n",
            "Accuracy after rotation augmentation is  0.6448\n",
            "Accuracy after rotation augmentation is  0.6477\n",
            "Accuracy after rotation augmentation is  0.6603\n",
            "Accuracy after rotation augmentation is  0.6417\n",
            "Accuracy after rotation augmentation is  0.663\n",
            "Accuracy after rotation augmentation is  0.6499\n",
            "Accuracy after rotation augmentation is  0.6506\n",
            "Accuracy after rotation augmentation is  0.6393\n",
            "Accuracy after rotation augmentation is  0.6594\n",
            "Accuracy after rotation augmentation is  0.6451\n",
            "Accuracy after rotation augmentation is  0.6535\n",
            "Accuracy after rotation augmentation is  0.663\n",
            "Accuracy after rotation augmentation is  0.6413\n",
            "Accuracy after rotation augmentation is  0.6572\n",
            "Accuracy after rotation augmentation is  0.66\n",
            "Accuracy after rotation augmentation is  0.6434\n",
            "Accuracy after rotation augmentation is  0.6521\n",
            "Accuracy after rotation augmentation is  0.6498\n",
            "Accuracy after rotation augmentation is  0.6516\n",
            "Accuracy after rotation augmentation is  0.6584\n",
            "Accuracy after rotation augmentation is  0.6435\n",
            "Accuracy after rotation augmentation is  0.6504\n",
            "Accuracy after rotation augmentation is  0.6526\n",
            "Accuracy after rotation augmentation is  0.6518\n",
            "Accuracy after rotation augmentation is  0.6505\n",
            "Accuracy after rotation augmentation is  0.6632\n",
            "Accuracy after rotation augmentation is  0.6486\n",
            "Accuracy after rotation augmentation is  0.6506\n",
            "Accuracy after rotation augmentation is  0.6532\n",
            "Accuracy after rotation augmentation is  0.651\n",
            "Accuracy after rotation augmentation is  0.6555\n",
            "Accuracy after rotation augmentation is  0.6623\n",
            "Accuracy after rotation augmentation is  0.6534\n",
            "Accuracy after rotation augmentation is  0.658\n",
            "Accuracy after rotation augmentation is  0.6498\n",
            "Accuracy after rotation augmentation is  0.6415\n",
            "Accuracy after rotation augmentation is  0.6542\n",
            "Accuracy after rotation augmentation is  0.6504\n",
            "Accuracy after rotation augmentation is  0.6459\n",
            "Accuracy after rotation augmentation is  0.6408\n",
            "Accuracy after rotation augmentation is  0.6557\n",
            "Accuracy after rotation augmentation is  0.6433\n",
            "Accuracy after rotation augmentation is  0.6369\n",
            "Accuracy after rotation augmentation is  0.6468\n",
            "Accuracy after rotation augmentation is  0.6473\n",
            "Accuracy after rotation augmentation is  0.6517\n",
            "Accuracy after rotation augmentation is  0.6543\n",
            "Accuracy after rotation augmentation is  0.6616\n",
            "Accuracy after rotation augmentation is  0.6452\n",
            "Accuracy after rotation augmentation is  0.6201\n",
            "Accuracy after rotation augmentation is  0.6564\n",
            "Accuracy after rotation augmentation is  0.6428\n",
            "Accuracy after rotation augmentation is  0.6546\n",
            "Accuracy after rotation augmentation is  0.6507\n",
            "Accuracy after rotation augmentation is  0.66\n",
            "Accuracy after rotation augmentation is  0.6568\n",
            "Accuracy after rotation augmentation is  0.6519\n",
            "Accuracy after rotation augmentation is  0.6658\n",
            "Accuracy after rotation augmentation is  0.6572\n",
            "Accuracy after rotation augmentation is  0.6444\n",
            "Accuracy after rotation augmentation is  0.6611\n",
            "Accuracy after rotation augmentation is  0.6505\n",
            "Accuracy after rotation augmentation is  0.6576\n",
            "Accuracy after rotation augmentation is  0.6568\n",
            "Accuracy after rotation augmentation is  0.6554\n",
            "Accuracy after rotation augmentation is  0.6506\n",
            "Accuracy after rotation augmentation is  0.6594\n",
            "Accuracy after rotation augmentation is  0.6478\n",
            "Accuracy after rotation augmentation is  0.6503\n",
            "Accuracy after rotation augmentation is  0.6498\n",
            "Accuracy after rotation augmentation is  0.659\n",
            "Accuracy after rotation augmentation is  0.6487\n",
            "Accuracy after rotation augmentation is  0.6526\n",
            "Accuracy after rotation augmentation is  0.658\n",
            "Accuracy after rotation augmentation is  0.6412\n",
            "Accuracy after rotation augmentation is  0.6572\n",
            "Accuracy after rotation augmentation is  0.655\n",
            "Accuracy after rotation augmentation is  0.6374\n",
            "Accuracy after rotation augmentation is  0.6388\n",
            "Accuracy after rotation augmentation is  0.6503\n",
            "Accuracy after rotation augmentation is  0.6478\n",
            "Accuracy after rotation augmentation is  0.6487\n",
            "Accuracy after rotation augmentation is  0.6334\n",
            "Accuracy after rotation augmentation is  0.6393\n",
            "Accuracy after rotation augmentation is  0.6446\n",
            "Accuracy after rotation augmentation is  0.6423\n",
            "Accuracy after rotation augmentation is  0.6494\n",
            "Accuracy after rotation augmentation is  0.6313\n",
            "Accuracy after rotation augmentation is  0.6453\n",
            "Accuracy after rotation augmentation is  0.6311\n",
            "Accuracy after rotation augmentation is  0.6569\n",
            "Accuracy after rotation augmentation is  0.6472\n",
            "Accuracy after rotation augmentation is  0.6513\n",
            "Accuracy after rotation augmentation is  0.6582\n",
            "Accuracy after rotation augmentation is  0.6411\n",
            "Accuracy after rotation augmentation is  0.6627\n",
            "Accuracy after rotation augmentation is  0.655\n",
            "Accuracy after rotation augmentation is  0.6457\n",
            "Accuracy after rotation augmentation is  0.6476\n",
            "Accuracy after rotation augmentation is  0.6478\n",
            "Accuracy after rotation augmentation is  0.6509\n",
            "Accuracy after rotation augmentation is  0.6446\n",
            "Accuracy after rotation augmentation is  0.6522\n",
            "Accuracy after rotation augmentation is  0.6566\n",
            "Accuracy after rotation augmentation is  0.6399\n",
            "Accuracy after rotation augmentation is  0.6483\n",
            "Accuracy after rotation augmentation is  0.6463\n",
            "Accuracy after rotation augmentation is  0.6518\n",
            "Accuracy after rotation augmentation is  0.6527\n",
            "Accuracy after rotation augmentation is  0.6495\n",
            "Accuracy after rotation augmentation is  0.6485\n",
            "Accuracy after rotation augmentation is  0.6502\n",
            "Accuracy after rotation augmentation is  0.6388\n",
            "Accuracy after rotation augmentation is  0.629\n",
            "Accuracy after rotation augmentation is  0.6567\n",
            "Accuracy after rotation augmentation is  0.6465\n",
            "Accuracy after rotation augmentation is  0.6475\n",
            "Accuracy after rotation augmentation is  0.6674\n",
            "Accuracy after rotation augmentation is  0.6445\n",
            "Accuracy after rotation augmentation is  0.6505\n",
            "Accuracy after rotation augmentation is  0.6345\n",
            "Accuracy after rotation augmentation is  0.6563\n",
            "Accuracy after rotation augmentation is  0.6535\n",
            "Accuracy after rotation augmentation is  0.6391\n",
            "Accuracy after rotation augmentation is  0.6317\n",
            "Accuracy after rotation augmentation is  0.6413\n",
            "Accuracy after rotation augmentation is  0.657\n",
            "Accuracy after rotation augmentation is  0.6551\n",
            "Accuracy after rotation augmentation is  0.6532\n",
            "Accuracy after rotation augmentation is  0.6491\n",
            "Accuracy after rotation augmentation is  0.6361\n",
            "Accuracy after rotation augmentation is  0.6253\n",
            "Accuracy after rotation augmentation is  0.6459\n",
            "Accuracy after rotation augmentation is  0.6503\n",
            "Accuracy after rotation augmentation is  0.6486\n",
            "Accuracy after rotation augmentation is  0.6342\n",
            "Accuracy after rotation augmentation is  0.6567\n",
            "Accuracy after rotation augmentation is  0.659\n",
            "Accuracy after rotation augmentation is  0.6407\n"
          ]
        }
      ]
    },
    {
      "cell_type": "code",
      "metadata": {
        "id": "Dx6dfN5vfyi9",
        "outputId": "d6e4fb49-7ba1-4faf-b5e9-1497ae9afc3d",
        "colab": {
          "base_uri": "https://localhost:8080/"
        }
      },
      "source": [
        ""
      ],
      "execution_count": 70,
      "outputs": [
        {
          "output_type": "execute_result",
          "data": {
            "text/plain": [
              "0.6836"
            ]
          },
          "metadata": {},
          "execution_count": 70
        }
      ]
    },
    {
      "cell_type": "markdown",
      "metadata": {
        "id": "E88Nt9s1p5R6"
      },
      "source": [
        "The angle constraint is a hyperparameter which we have to tune using a validation set. (Here we are not doing that for time constraints). Let us try a grid search to find the best angle constraint."
      ]
    },
    {
      "cell_type": "code",
      "metadata": {
        "id": "aiaFRLREmGp6",
        "outputId": "46a7a717-d91b-4304-b0fe-37667b0f137d",
        "colab": {
          "base_uri": "https://localhost:8080/"
        }
      },
      "source": [
        "angleconstraints = [0,10,20,30,40,50,60,70,80,90] # the values we want to test\n",
        "accuracies = np.zeros(len(angleconstraints), dtype=np.float) # we will save the values here\n",
        "\n",
        "for ii in range(len(angleconstraints)):\n",
        "  # create the augmented dataset\n",
        "  augdata = train_X # we include the original images also in the augmented dataset\n",
        "  auglabel = train_y\n",
        "  for jj in range(naugmentations):\n",
        "    augdata = np.concatenate((augdata, augRotate(train_X, angleconstraints[ii]))) # concatenate the augmented data to the set\n",
        "    auglabel = np.concatenate((auglabel, train_y))  # the labels don't change when we augment\n",
        "\n",
        "  # check the test accuracy\n",
        "  testpred = NN(augdata, auglabel, test_X)\n",
        "  accuracies[ii] = Accuracy(test_y, testpred)\n",
        "  print('Accuracy after rotation augmentation constrained by ',angleconstraints[ii], ' is ', accuracies[ii], flush=True)"
      ],
      "execution_count": 44,
      "outputs": [
        {
          "output_type": "stream",
          "name": "stdout",
          "text": [
            "Accuracy after rotation augmentation constrained by  0  is  0.6472\n",
            "Accuracy after rotation augmentation constrained by  10  is  0.6738\n",
            "Accuracy after rotation augmentation constrained by  20  is  0.6843\n",
            "Accuracy after rotation augmentation constrained by  30  is  0.6769\n",
            "Accuracy after rotation augmentation constrained by  40  is  0.6817\n",
            "Accuracy after rotation augmentation constrained by  50  is  0.6816\n",
            "Accuracy after rotation augmentation constrained by  60  is  0.6631\n",
            "Accuracy after rotation augmentation constrained by  70  is  0.6578\n",
            "Accuracy after rotation augmentation constrained by  80  is  0.647\n",
            "Accuracy after rotation augmentation constrained by  90  is  0.6371\n"
          ]
        }
      ]
    },
    {
      "cell_type": "markdown",
      "metadata": {
        "id": "2oVDRYP2rxob"
      },
      "source": [
        "Let us see the best value for angle constraint: (Ideally this should be done on validation set, not test set)"
      ]
    },
    {
      "cell_type": "code",
      "metadata": {
        "id": "LqthJa_pmMHz",
        "outputId": "9d8753c2-0f47-463c-dfd9-cf6e4ad23f73",
        "colab": {
          "base_uri": "https://localhost:8080/",
          "height": 309
        }
      },
      "source": [
        "fig = plt.figure()\n",
        "ax = fig.add_axes([0.1, 0.1, 0.8, 0.8]) # main axes\n",
        "# plot the variation of accuracy\n",
        "ax.plot(angleconstraints, accuracies)\n",
        "ax.set_xlabel('angle')\n",
        "ax.set_ylabel('accuracy')\n",
        "# plot the maximum accuracy\n",
        "maxind = np.argmax(accuracies)\n",
        "plt.scatter(angleconstraints[maxind], accuracies[maxind], c='red')"
      ],
      "execution_count": 45,
      "outputs": [
        {
          "output_type": "execute_result",
          "data": {
            "text/plain": [
              "<matplotlib.collections.PathCollection at 0x7f7ba77d4810>"
            ]
          },
          "metadata": {},
          "execution_count": 45
        },
        {
          "output_type": "display_data",
          "data": {
            "image/png": "[encoded data removed]",
            "text/plain": [
              "<Figure size 432x288 with 1 Axes>"
            ]
          },
          "metadata": {
            "needs_background": "light"
          }
        }
      ]
    },
    {
      "cell_type": "markdown",
      "metadata": {
        "id": "eJ8YuVfCuGTj"
      },
      "source": [
        "Let us try one more augmentation: shear. Here is what this looks like:"
      ]
    },
    {
      "cell_type": "code",
      "metadata": {
        "id": "pMiw46NLwssK"
      },
      "source": [
        "def shear(sample, amount):\n",
        "  tform = AffineTransform(shear = amount) # create the shear transform\n",
        "  img = warp(sample, tform) # apply the shear\n",
        "  # this makes the digit off-center. Since all the images in the test set are centralized, we will do the same here\n",
        "  col = img.sum(0).nonzero()[0]\n",
        "  row = img.sum(1).nonzero()[0]\n",
        "  if len(col)>0 and len(row)>0:\n",
        "    xshift = int(sample.shape[0]/2 - (row[0]+row[-1])/2)\n",
        "    yshift = int(sample.shape[1]/2 - (col[0]+col[-1])/2)\n",
        "    img = np.roll(img, (xshift, yshift),(0,1))\n",
        "  return img"
      ],
      "execution_count": 48,
      "outputs": []
    },
    {
      "cell_type": "code",
      "metadata": {
        "id": "4_u_EYpmnABK",
        "outputId": "bb675a43-ded8-4079-dd25-cfcb90046f47",
        "colab": {
          "base_uri": "https://localhost:8080/",
          "height": 530
        }
      },
      "source": [
        "sample = train_X[2]\n",
        "plt.imshow(sample, cmap='gray')\n",
        "plt.show()\n",
        "\n",
        "# apply shear\n",
        "plt.imshow(shear(sample, 0.4), cmap='gray')"
      ],
      "execution_count": 49,
      "outputs": [
        {
          "output_type": "display_data",
          "data": {
            "image/png": "[encoded data removed]",
            "text/plain": [
              "<Figure size 432x288 with 1 Axes>"
            ]
          },
          "metadata": {
            "needs_background": "light"
          }
        },
        {
          "output_type": "execute_result",
          "data": {
            "text/plain": [
              "<matplotlib.image.AxesImage at 0x7f7ba76f0250>"
            ]
          },
          "metadata": {},
          "execution_count": 49
        },
        {
          "output_type": "display_data",
          "data": {
            "image/png": "[encoded data removed]",
            "text/plain": [
              "<Figure size 432x288 with 1 Axes>"
            ]
          },
          "metadata": {
            "needs_background": "light"
          }
        }
      ]
    },
    {
      "cell_type": "markdown",
      "metadata": {
        "id": "lGnWMoyM2pK4"
      },
      "source": [
        "Create an augmentation function which applies a random shear according to the constraint we provide:"
      ]
    },
    {
      "cell_type": "code",
      "metadata": {
        "id": "-qLDJyGytwP5"
      },
      "source": [
        "def augShear(sample, shearconstraint):\n",
        "  if shearconstraint==0:\n",
        "    return sample\n",
        "  if len(sample.shape)==2:\n",
        "    sample = np.expand_dims(sample, 0)  # make sure the sample is 3 dimensional\n",
        "  amt = rng.random(len(sample)) # generate random numbers for shear\n",
        "  amt = (amt-0.5)*shearconstraint # make the random shear constrained\n",
        "  nsample = sample.copy() # preallocate the augmented array to make it faster\n",
        "  for ii in range(len(sample)):\n",
        "    nsample[ii] = shear(sample[ii], amt[ii])\n",
        "  return np.squeeze(nsample) # take care if the input had only one sample."
      ],
      "execution_count": 56,
      "outputs": []
    },
    {
      "cell_type": "markdown",
      "metadata": {
        "id": "s6lQcWW93suJ"
      },
      "source": [
        "Let us do a grid search to find the best shear constraint."
      ]
    },
    {
      "cell_type": "code",
      "metadata": {
        "id": "xjJfbCI-dyje",
        "outputId": "1cf85ce0-7e31-482e-9d18-5864e83e81e2",
        "colab": {
          "base_uri": "https://localhost:8080/",
          "height": 265
        }
      },
      "source": [
        "sheared = augShear(train_X, -1)\n",
        "plt.imshow(sheared[6], cmap = 'gray')\n",
        "plt.show()"
      ],
      "execution_count": 67,
      "outputs": [
        {
          "output_type": "display_data",
          "data": {
            "image/png": "[encoded data removed]",
            "text/plain": [
              "<Figure size 432x288 with 1 Axes>"
            ]
          },
          "metadata": {
            "needs_background": "light"
          }
        }
      ]
    },
    {
      "cell_type": "code",
      "metadata": {
        "id": "l_wrqPkrzBb_",
        "outputId": "a8906a25-67da-4676-e816-86e55742a392",
        "colab": {
          "base_uri": "https://localhost:8080/"
        }
      },
      "source": [
        "shearconstraints = [0, 0.2,0.4,0.6,0.8,1.0,1.2,1.4,1.6,1.8,2.0] # the values we want to test\n",
        "accuracies = np.zeros(len(shearconstraints), dtype=np.float) # we will save the values here\n",
        "\n",
        "for ii in range(len(shearconstraints)):\n",
        "  # create the augmented dataset\n",
        "  augdata = train_X # we include the original images also in the augmented dataset\n",
        "  auglabel = train_y\n",
        "  for jj in range(naugmentations):\n",
        "    augdata = np.concatenate((augdata, augShear(train_X, -shearconstraints[ii]))) # concatenate the augmented data to the set\n",
        "    auglabel = np.concatenate((auglabel, train_y))  # the labels don't change when we augment\n",
        "\n",
        "  # check the test accuracy\n",
        "  testpred = NN(augdata, auglabel, test_X)\n",
        "  accuracies[ii] = Accuracy(test_y, testpred)\n",
        "  print('Accuracy after shear augmentation constrained by ',shearconstraints[ii], ' is ', accuracies[ii], flush=True)"
      ],
      "execution_count": 68,
      "outputs": [
        {
          "output_type": "stream",
          "name": "stdout",
          "text": [
            "Accuracy after shear augmentation constrained by  0  is  0.6472\n",
            "Accuracy after shear augmentation constrained by  0.2  is  0.6212\n",
            "Accuracy after shear augmentation constrained by  0.4  is  0.6448\n",
            "Accuracy after shear augmentation constrained by  0.6  is  0.6357\n",
            "Accuracy after shear augmentation constrained by  0.8  is  0.6519\n",
            "Accuracy after shear augmentation constrained by  1.0  is  0.6459\n",
            "Accuracy after shear augmentation constrained by  1.2  is  0.6477\n",
            "Accuracy after shear augmentation constrained by  1.4  is  0.6393\n",
            "Accuracy after shear augmentation constrained by  1.6  is  0.5964\n",
            "Accuracy after shear augmentation constrained by  1.8  is  0.604\n",
            "Accuracy after shear augmentation constrained by  2.0  is  0.6085\n"
          ]
        }
      ]
    },
    {
      "cell_type": "code",
      "metadata": {
        "id": "EKaH-YR-zVnA",
        "outputId": "12277fc4-6ea2-4468-d425-9a9635354c29",
        "colab": {
          "base_uri": "https://localhost:8080/",
          "height": 309
        }
      },
      "source": [
        "fig = plt.figure()\n",
        "ax = fig.add_axes([0.1, 0.1, 0.8, 0.8]) # main axes\n",
        "# plot the variation of accuracy\n",
        "ax.plot(shearconstraints, accuracies)\n",
        "ax.set_xlabel('angle')\n",
        "ax.set_ylabel('accuracy')\n",
        "# plot the maximum accuracy\n",
        "maxind = np.argmax(accuracies)\n",
        "plt.scatter(shearconstraints[maxind], accuracies[maxind], c='red')"
      ],
      "execution_count": 69,
      "outputs": [
        {
          "output_type": "execute_result",
          "data": {
            "text/plain": [
              "<matplotlib.collections.PathCollection at 0x7f7ba6d0f410>"
            ]
          },
          "metadata": {},
          "execution_count": 69
        },
        {
          "output_type": "display_data",
          "data": {
            "image/png": "[encoded data removed]",
            "text/plain": [
              "<Figure size 432x288 with 1 Axes>"
            ]
          },
          "metadata": {
            "needs_background": "light"
          }
        }
      ]
    },
    {
      "cell_type": "markdown",
      "metadata": {
        "id": "ccfdbRcQ7Zgg"
      },
      "source": [
        "We can do multiple augmentations at the same time. Here is a function to do both shear and rotation to the sample. In this case, we will have two hyperparameters. "
      ]
    },
    {
      "cell_type": "code",
      "metadata": {
        "id": "sh8S_Pxa0XCv"
      },
      "source": [
        "def augRotateShear(sample, angleconstraint, shearconstraint):\n",
        "  if len(sample.shape)==2:\n",
        "    sample = np.expand_dims(sample, 0)  # make sure the sample is 3 dimensional\n",
        "  amt = rng.random(len(sample)) # generate random numbers for shear\n",
        "  amt = (amt-0.5)*shearconstraint # make the random shear constrained\n",
        "  angle = rng.random(len(sample)) # generate random numbers for angles\n",
        "  angle = (angle-0.5)*angleconstraint # make the random angle constrained\n",
        "  nsample = sample.copy() # preallocate the augmented array to make it faster\n",
        "  for ii in range(len(sample)):\n",
        "    nsample[ii] = rotate(shear(sample[ii], amt[ii]), angle[ii]) # first apply shear, then rotate\n",
        "  return np.squeeze(nsample) # take care if the input had only one sample."
      ],
      "execution_count": 53,
      "outputs": []
    },
    {
      "cell_type": "markdown",
      "metadata": {
        "id": "OGKyjjNx-NQ4"
      },
      "source": [
        "Since we have two hyperparameters, we have to do the grid search on a 2 dimensional matrix. We can use our previous experience to inform where to search for the best hyperparameters. "
      ]
    },
    {
      "cell_type": "code",
      "metadata": {
        "id": "TJC45WRg0pOP",
        "outputId": "e3f23861-cd3e-4db9-f3c5-449ad6312330",
        "colab": {
          "base_uri": "https://localhost:8080/"
        }
      },
      "source": [
        "shearconstraints = [0, 0.2,0.4,0.6,0.8,1.0,1.2,1.4,1.6] # the values we want to test\n",
        "angleconstraints = [0,10,20,30,40,50,60] # the values we want to test\n",
        "hyp = cartesian((shearconstraints, angleconstraints)) # cartesian product of both\n",
        "\n",
        "accuracies = np.zeros(len(hyp), dtype=np.float) # we will save the values here\n",
        "\n",
        "for ii in range(len(hyp)):\n",
        "  # create the augmented dataset\n",
        "  augdata = train_X # we include the original images also in the augmented dataset\n",
        "  auglabel = train_y\n",
        "  for jj in range(naugmentations):\n",
        "    augdata = np.concatenate((augdata, augRotateShear(train_X, hyp[ii][0], hyp[ii][1]))) # concatenate the augmented data to the set\n",
        "    auglabel = np.concatenate((auglabel, train_y))  # the labels don't change when we augment\n",
        "\n",
        "  # check the test accuracy\n",
        "  testpred = NN(augdata, auglabel, test_X)\n",
        "  accuracies[ii] = Accuracy(test_y, testpred)\n",
        "  print('Accuracy after augmentation shear:',hyp[ii][0], 'angle:',hyp[ii][1], ' is ', accuracies[ii], flush=True)"
      ],
      "execution_count": 54,
      "outputs": [
        {
          "output_type": "stream",
          "name": "stdout",
          "text": [
            "Accuracy after augmentation shear: 0.0 angle: 0.0  is  0.6332\n",
            "Accuracy after augmentation shear: 0.0 angle: 10.0  is  0.6073\n",
            "Accuracy after augmentation shear: 0.0 angle: 20.0  is  0.5922\n",
            "Accuracy after augmentation shear: 0.0 angle: 30.0  is  0.6018\n",
            "Accuracy after augmentation shear: 0.0 angle: 40.0  is  0.5771\n",
            "Accuracy after augmentation shear: 0.0 angle: 50.0  is  0.6015\n",
            "Accuracy after augmentation shear: 0.0 angle: 60.0  is  0.5712\n",
            "Accuracy after augmentation shear: 0.2 angle: 0.0  is  0.6334\n",
            "Accuracy after augmentation shear: 0.2 angle: 10.0  is  0.5772\n",
            "Accuracy after augmentation shear: 0.2 angle: 20.0  is  0.6181\n",
            "Accuracy after augmentation shear: 0.2 angle: 30.0  is  0.6023\n",
            "Accuracy after augmentation shear: 0.2 angle: 40.0  is  0.6025\n",
            "Accuracy after augmentation shear: 0.2 angle: 50.0  is  0.5873\n",
            "Accuracy after augmentation shear: 0.2 angle: 60.0  is  0.6078\n",
            "Accuracy after augmentation shear: 0.4 angle: 0.0  is  0.6335\n",
            "Accuracy after augmentation shear: 0.4 angle: 10.0  is  0.6062\n",
            "Accuracy after augmentation shear: 0.4 angle: 20.0  is  0.6049\n",
            "Accuracy after augmentation shear: 0.4 angle: 30.0  is  0.6006\n",
            "Accuracy after augmentation shear: 0.4 angle: 40.0  is  0.6093\n",
            "Accuracy after augmentation shear: 0.4 angle: 50.0  is  0.6077\n",
            "Accuracy after augmentation shear: 0.4 angle: 60.0  is  0.5978\n",
            "Accuracy after augmentation shear: 0.6 angle: 0.0  is  0.6343\n",
            "Accuracy after augmentation shear: 0.6 angle: 10.0  is  0.608\n",
            "Accuracy after augmentation shear: 0.6 angle: 20.0  is  0.6183\n",
            "Accuracy after augmentation shear: 0.6 angle: 30.0  is  0.6147\n",
            "Accuracy after augmentation shear: 0.6 angle: 40.0  is  0.5964\n",
            "Accuracy after augmentation shear: 0.6 angle: 50.0  is  0.5957\n",
            "Accuracy after augmentation shear: 0.6 angle: 60.0  is  0.5855\n",
            "Accuracy after augmentation shear: 0.8 angle: 0.0  is  0.6339\n",
            "Accuracy after augmentation shear: 0.8 angle: 10.0  is  0.5993\n",
            "Accuracy after augmentation shear: 0.8 angle: 20.0  is  0.6038\n",
            "Accuracy after augmentation shear: 0.8 angle: 30.0  is  0.6086\n",
            "Accuracy after augmentation shear: 0.8 angle: 40.0  is  0.5746\n",
            "Accuracy after augmentation shear: 0.8 angle: 50.0  is  0.5806\n",
            "Accuracy after augmentation shear: 0.8 angle: 60.0  is  0.6138\n",
            "Accuracy after augmentation shear: 1.0 angle: 0.0  is  0.6341\n",
            "Accuracy after augmentation shear: 1.0 angle: 10.0  is  0.5887\n",
            "Accuracy after augmentation shear: 1.0 angle: 20.0  is  0.6045\n",
            "Accuracy after augmentation shear: 1.0 angle: 30.0  is  0.5968\n",
            "Accuracy after augmentation shear: 1.0 angle: 40.0  is  0.5963\n",
            "Accuracy after augmentation shear: 1.0 angle: 50.0  is  0.5989\n",
            "Accuracy after augmentation shear: 1.0 angle: 60.0  is  0.606\n",
            "Accuracy after augmentation shear: 1.2 angle: 0.0  is  0.6339\n",
            "Accuracy after augmentation shear: 1.2 angle: 10.0  is  0.5811\n",
            "Accuracy after augmentation shear: 1.2 angle: 20.0  is  0.6103\n",
            "Accuracy after augmentation shear: 1.2 angle: 30.0  is  0.5941\n",
            "Accuracy after augmentation shear: 1.2 angle: 40.0  is  0.6085\n",
            "Accuracy after augmentation shear: 1.2 angle: 50.0  is  0.6061\n",
            "Accuracy after augmentation shear: 1.2 angle: 60.0  is  0.5799\n",
            "Accuracy after augmentation shear: 1.4 angle: 0.0  is  0.6351\n",
            "Accuracy after augmentation shear: 1.4 angle: 10.0  is  0.6079\n",
            "Accuracy after augmentation shear: 1.4 angle: 20.0  is  0.5917\n",
            "Accuracy after augmentation shear: 1.4 angle: 30.0  is  0.6066\n",
            "Accuracy after augmentation shear: 1.4 angle: 40.0  is  0.6005\n",
            "Accuracy after augmentation shear: 1.4 angle: 50.0  is  0.5907\n",
            "Accuracy after augmentation shear: 1.4 angle: 60.0  is  0.5873\n",
            "Accuracy after augmentation shear: 1.6 angle: 0.0  is  0.6345\n",
            "Accuracy after augmentation shear: 1.6 angle: 10.0  is  0.592\n",
            "Accuracy after augmentation shear: 1.6 angle: 20.0  is  0.6003\n",
            "Accuracy after augmentation shear: 1.6 angle: 30.0  is  0.5824\n",
            "Accuracy after augmentation shear: 1.6 angle: 40.0  is  0.6057\n",
            "Accuracy after augmentation shear: 1.6 angle: 50.0  is  0.5683\n",
            "Accuracy after augmentation shear: 1.6 angle: 60.0  is  0.6027\n"
          ]
        }
      ]
    },
    {
      "cell_type": "markdown",
      "metadata": {
        "id": "PT6CnvSDEX7a"
      },
      "source": [
        "Let us plot it two dimensionally to see which is the best value for the hyperparameters:"
      ]
    },
    {
      "cell_type": "code",
      "metadata": {
        "id": "jD2i7msI_cLd",
        "outputId": "cf13fcaf-54b6-45fe-bfa9-9335f513dc90",
        "colab": {
          "base_uri": "https://localhost:8080/",
          "height": 309
        }
      },
      "source": [
        "fig = plt.figure()\n",
        "ax = fig.add_axes([0.1, 0.1, 0.8, 0.8]) # main axes\n",
        "im = ax.imshow(accuracies.reshape((len(shearconstraints), len(angleconstraints))), cmap='inferno') \n",
        "ax.set_xlabel('angle')\n",
        "ax.set_ylabel('shear')\n",
        "ax.set_xticks(np.arange(len(angleconstraints)));\n",
        "ax.set_xticklabels(angleconstraints);\n",
        "ax.set_yticks(np.arange(len(shearconstraints)));\n",
        "ax.set_yticklabels(shearconstraints);\n",
        "plt.colorbar(im)"
      ],
      "execution_count": 55,
      "outputs": [
        {
          "output_type": "execute_result",
          "data": {
            "text/plain": [
              "<matplotlib.colorbar.Colorbar at 0x7f7ba75ac850>"
            ]
          },
          "metadata": {},
          "execution_count": 55
        },
        {
          "output_type": "display_data",
          "data": {
            "image/png": "[encoded data removed]",
            "text/plain": [
              "<Figure size 432x288 with 2 Axes>"
            ]
          },
          "metadata": {
            "needs_background": "light"
          }
        }
      ]
    },
    {
      "cell_type": "markdown",
      "metadata": {
        "id": "OHcZWJiFJDMh"
      },
      "source": [
        "It seems that rotation and shear don't mix! The best accuracy is \n",
        "\n",
        "when rotation is zero.\n",
        "\n",
        "---\n",
        "\n",
        "\n",
        "\n",
        "---\n",
        "\n"
      ]
    },
    {
      "cell_type": "markdown",
      "metadata": {
        "id": "PAasQo1C3x4A"
      },
      "source": [
        "## Questions\n",
        "Try these questions for better understanding. You may not be able tosolve all of them. \n",
        "1. What is the best value for angle constraint and shear constraint you got? How much did the accuracy improve as compared to not using augmentations?\n",
        "2. Can you increase the accuracy by increasing the number of augmentations from each sample?\n",
        "3. Try implementing a few augmentations of your own and experimenting with them. A good reference is <a href=https://www.analyticsvidhya.com/blog/2019/12/image-augmentation-deep-learning-pytorch/>here. </a>\n",
        "4. Try combining various augmentations. What is the highest accuracy you can get? What is the smallest training dataset you can take and still get accuracy above 50%?\n",
        "\n",
        "Whenever you do any experiment, a good practice is to vary the hyperparameters gradually and create a graph of your results, like we did for gridsearch. "
      ]
    },
    {
      "cell_type": "code",
      "metadata": {
        "id": "A8GMysZ2gIyx",
        "outputId": "5ccb2d0a-28c8-4553-83e7-dac9c994879b",
        "colab": {
          "base_uri": "https://localhost:8080/"
        }
      },
      "source": [
        "val = 0\n",
        "optimalAngle = 0\n",
        "print(accuracyDict)\n",
        "for x in accuracyDict.keys():\n",
        "    if accuracyDict[x] > val:\n",
        "        val = accuracyDict[x]\n",
        "        optimalAngle = x"
      ],
      "execution_count": 73,
      "outputs": [
        {
          "output_type": "stream",
          "name": "stdout",
          "text": [
            "{'50, 1': 0.6712, '50, 2': 0.6776, '50, 3': 0.6728, '50, 4': 0.6764, '50, 5': 0.6627, '50, 6': 0.6622, '50, 7': 0.6686, '50, 8': 0.6742, '50, 9': 0.6734, '51, 1': 0.6759, '51, 2': 0.6675, '51, 3': 0.6804, '51, 4': 0.6731, '51, 5': 0.6723, '51, 6': 0.6619, '51, 7': 0.6732, '51, 8': 0.6746, '51, 9': 0.6724, '52, 1': 0.6722, '52, 2': 0.6699, '52, 3': 0.6747, '52, 4': 0.6747, '52, 5': 0.6622, '52, 6': 0.6768, '52, 7': 0.6697, '52, 8': 0.6796, '52, 9': 0.6769, '53, 1': 0.6732, '53, 2': 0.6595, '53, 3': 0.6631, '53, 4': 0.6678, '53, 5': 0.6658, '53, 6': 0.6836, '53, 7': 0.663, '53, 8': 0.6582, '53, 9': 0.6703, '54, 1': 0.6793, '54, 2': 0.6694, '54, 3': 0.677, '54, 4': 0.6761, '54, 5': 0.6707, '54, 6': 0.6626, '54, 7': 0.6689, '54, 8': 0.6712, '54, 9': 0.6687, '55, 1': 0.6765, '55, 2': 0.6722, '55, 3': 0.664, '55, 4': 0.6735, '55, 5': 0.6728, '55, 6': 0.6707, '55, 7': 0.6622, '55, 8': 0.6758, '55, 9': 0.6745, '56, 1': 0.6617, '56, 2': 0.6542, '56, 3': 0.6784, '56, 4': 0.668, '56, 5': 0.6575, '56, 6': 0.6718, '56, 7': 0.6786, '56, 8': 0.6637, '56, 9': 0.6607, '57, 1': 0.6689, '57, 2': 0.6579, '57, 3': 0.6761, '57, 4': 0.6653, '57, 5': 0.6656, '57, 6': 0.6725, '57, 7': 0.6676, '57, 8': 0.6734, '57, 9': 0.6825, '58, 1': 0.6647, '58, 2': 0.6765, '58, 3': 0.6703, '58, 4': 0.6664, '58, 5': 0.6565, '58, 6': 0.6626, '58, 7': 0.67, '58, 8': 0.6731, '58, 9': 0.6598, '59, 1': 0.6626, '59, 2': 0.6653, '59, 3': 0.6625, '59, 4': 0.6679, '59, 5': 0.6658, '59, 6': 0.6671, '59, 7': 0.658, '59, 8': 0.66, '59, 9': 0.6644, '60, 1': 0.6724, '60, 2': 0.6752, '60, 3': 0.6726, '60, 4': 0.6659, '60, 5': 0.6768, '60, 6': 0.6647, '60, 7': 0.6753, '60, 8': 0.6683, '60, 9': 0.6618, '61, 1': 0.6704, '61, 2': 0.67, '61, 3': 0.6713, '61, 4': 0.6529, '61, 5': 0.6673, '61, 6': 0.6787, '61, 7': 0.6695, '61, 8': 0.6525, '61, 9': 0.6649, '62, 1': 0.6656, '62, 2': 0.6654, '62, 3': 0.6629, '62, 4': 0.6573, '62, 5': 0.6653, '62, 6': 0.6619, '62, 7': 0.6673, '62, 8': 0.6679, '62, 9': 0.6678, '63, 1': 0.667, '63, 2': 0.6716, '63, 3': 0.6633, '63, 4': 0.6662, '63, 5': 0.6705, '63, 6': 0.6644, '63, 7': 0.6535, '63, 8': 0.6684, '63, 9': 0.663, '64, 1': 0.6646, '64, 2': 0.669, '64, 3': 0.652, '64, 4': 0.6443, '64, 5': 0.6527, '64, 6': 0.6674, '64, 7': 0.6631, '64, 8': 0.6582, '64, 9': 0.6654, '65, 1': 0.6588, '65, 2': 0.6572, '65, 3': 0.6509, '65, 4': 0.6625, '65, 5': 0.6638, '65, 6': 0.6575, '65, 7': 0.6638, '65, 8': 0.6611, '65, 9': 0.664, '66, 1': 0.6649, '66, 2': 0.6585, '66, 3': 0.6676, '66, 4': 0.6614, '66, 5': 0.6575, '66, 6': 0.6483, '66, 7': 0.6751, '66, 8': 0.6737, '66, 9': 0.6585, '67, 1': 0.6598, '67, 2': 0.664, '67, 3': 0.6697, '67, 4': 0.6687, '67, 5': 0.6645, '67, 6': 0.6457, '67, 7': 0.6587, '67, 8': 0.6426, '67, 9': 0.6701, '68, 1': 0.6699, '68, 2': 0.6641, '68, 3': 0.6542, '68, 4': 0.6563, '68, 5': 0.6604, '68, 6': 0.6641, '68, 7': 0.6627, '68, 8': 0.6616, '68, 9': 0.6569, '69, 1': 0.6594, '69, 2': 0.6524, '69, 3': 0.6637, '69, 4': 0.6593, '69, 5': 0.6654, '69, 6': 0.656, '69, 7': 0.6666, '69, 8': 0.6634, '69, 9': 0.663, '70, 1': 0.6679, '70, 2': 0.651, '70, 3': 0.6675, '70, 4': 0.6607, '70, 5': 0.6649, '70, 6': 0.654, '70, 7': 0.6678, '70, 8': 0.6553, '70, 9': 0.6579, '71, 1': 0.6572, '71, 2': 0.6623, '71, 3': 0.6608, '71, 4': 0.6513, '71, 5': 0.6446, '71, 6': 0.6559, '71, 7': 0.6597, '71, 8': 0.667, '71, 9': 0.6559, '72, 1': 0.6592, '72, 2': 0.6689, '72, 3': 0.66, '72, 4': 0.658, '72, 5': 0.6592, '72, 6': 0.6563, '72, 7': 0.6731, '72, 8': 0.6613, '72, 9': 0.6698, '73, 1': 0.6632, '73, 2': 0.663, '73, 3': 0.6619, '73, 4': 0.6602, '73, 5': 0.6612, '73, 6': 0.6519, '73, 7': 0.651, '73, 8': 0.6671, '73, 9': 0.6619, '74, 1': 0.6615, '74, 2': 0.6552, '74, 3': 0.6525, '74, 4': 0.6611, '74, 5': 0.6604, '74, 6': 0.6577, '74, 7': 0.6707, '74, 8': 0.6504, '74, 9': 0.6481, '75, 1': 0.6664, '75, 2': 0.6549, '75, 3': 0.6739, '75, 4': 0.6605, '75, 5': 0.6613, '75, 6': 0.657, '75, 7': 0.6573, '75, 8': 0.6571, '75, 9': 0.6697, '76, 1': 0.6445, '76, 2': 0.6556, '76, 3': 0.6687, '76, 4': 0.6554, '76, 5': 0.6504, '76, 6': 0.663, '76, 7': 0.6581, '76, 8': 0.6537, '76, 9': 0.6618, '77, 1': 0.6591, '77, 2': 0.6432, '77, 3': 0.6453, '77, 4': 0.655, '77, 5': 0.6699, '77, 6': 0.6577, '77, 7': 0.6603, '77, 8': 0.6579, '77, 9': 0.6643, '78, 1': 0.6617, '78, 2': 0.6646, '78, 3': 0.657, '78, 4': 0.6554, '78, 5': 0.6564, '78, 6': 0.6582, '78, 7': 0.6575, '78, 8': 0.6563, '78, 9': 0.6627, '79, 1': 0.6645, '79, 2': 0.6642, '79, 3': 0.6463, '79, 4': 0.6569, '79, 5': 0.6593, '79, 6': 0.6415, '79, 7': 0.6583, '79, 8': 0.6716, '79, 9': 0.6501, '80, 1': 0.6595, '80, 2': 0.6651, '80, 3': 0.6638, '80, 4': 0.6489, '80, 5': 0.643, '80, 6': 0.6575, '80, 7': 0.67, '80, 8': 0.6607, '80, 9': 0.6545, '81, 1': 0.6547, '81, 2': 0.657, '81, 3': 0.6525, '81, 4': 0.6551, '81, 5': 0.6521, '81, 6': 0.664, '81, 7': 0.672, '81, 8': 0.6563, '81, 9': 0.6626, '82, 1': 0.6547, '82, 2': 0.6603, '82, 3': 0.6635, '82, 4': 0.6495, '82, 5': 0.6556, '82, 6': 0.6497, '82, 7': 0.6628, '82, 8': 0.6615, '82, 9': 0.6631, '83, 1': 0.6675, '83, 2': 0.6539, '83, 3': 0.6461, '83, 4': 0.6533, '83, 5': 0.6442, '83, 6': 0.6659, '83, 7': 0.6591, '83, 8': 0.6536, '83, 9': 0.6417, '84, 1': 0.6447, '84, 2': 0.6509, '84, 3': 0.6609, '84, 4': 0.6494, '84, 5': 0.6532, '84, 6': 0.6448, '84, 7': 0.6477, '84, 8': 0.6603, '84, 9': 0.6417, '85, 1': 0.663, '85, 2': 0.6499, '85, 3': 0.6506, '85, 4': 0.6393, '85, 5': 0.6594, '85, 6': 0.6451, '85, 7': 0.6535, '85, 8': 0.663, '85, 9': 0.6413, '86, 1': 0.6572, '86, 2': 0.66, '86, 3': 0.6434, '86, 4': 0.6521, '86, 5': 0.6498, '86, 6': 0.6516, '86, 7': 0.6584, '86, 8': 0.6435, '86, 9': 0.6504, '87, 1': 0.6526, '87, 2': 0.6518, '87, 3': 0.6505, '87, 4': 0.6632, '87, 5': 0.6486, '87, 6': 0.6506, '87, 7': 0.6532, '87, 8': 0.651, '87, 9': 0.6555, '88, 1': 0.6623, '88, 2': 0.6534, '88, 3': 0.658, '88, 4': 0.6498, '88, 5': 0.6415, '88, 6': 0.6542, '88, 7': 0.6504, '88, 8': 0.6459, '88, 9': 0.6408, '89, 1': 0.6557, '89, 2': 0.6433, '89, 3': 0.6369, '89, 4': 0.6468, '89, 5': 0.6473, '89, 6': 0.6517, '89, 7': 0.6543, '89, 8': 0.6616, '89, 9': 0.6452, '90, 1': 0.6201, '90, 2': 0.6564, '90, 3': 0.6428, '90, 4': 0.6546, '90, 5': 0.6507, '90, 6': 0.66, '90, 7': 0.6568, '90, 8': 0.6519, '90, 9': 0.6658, '91, 1': 0.6572, '91, 2': 0.6444, '91, 3': 0.6611, '91, 4': 0.6505, '91, 5': 0.6576, '91, 6': 0.6568, '91, 7': 0.6554, '91, 8': 0.6506, '91, 9': 0.6594, '92, 1': 0.6478, '92, 2': 0.6503, '92, 3': 0.6498, '92, 4': 0.659, '92, 5': 0.6487, '92, 6': 0.6526, '92, 7': 0.658, '92, 8': 0.6412, '92, 9': 0.6572, '93, 1': 0.655, '93, 2': 0.6374, '93, 3': 0.6388, '93, 4': 0.6503, '93, 5': 0.6478, '93, 6': 0.6487, '93, 7': 0.6334, '93, 8': 0.6393, '93, 9': 0.6446, '94, 1': 0.6423, '94, 2': 0.6494, '94, 3': 0.6313, '94, 4': 0.6453, '94, 5': 0.6311, '94, 6': 0.6569, '94, 7': 0.6472, '94, 8': 0.6513, '94, 9': 0.6582, '95, 1': 0.6411, '95, 2': 0.6627, '95, 3': 0.655, '95, 4': 0.6457, '95, 5': 0.6476, '95, 6': 0.6478, '95, 7': 0.6509, '95, 8': 0.6446, '95, 9': 0.6522, '96, 1': 0.6566, '96, 2': 0.6399, '96, 3': 0.6483, '96, 4': 0.6463, '96, 5': 0.6518, '96, 6': 0.6527, '96, 7': 0.6495, '96, 8': 0.6485, '96, 9': 0.6502, '97, 1': 0.6388, '97, 2': 0.629, '97, 3': 0.6567, '97, 4': 0.6465, '97, 5': 0.6475, '97, 6': 0.6674, '97, 7': 0.6445, '97, 8': 0.6505, '97, 9': 0.6345, '98, 1': 0.6563, '98, 2': 0.6535, '98, 3': 0.6391, '98, 4': 0.6317, '98, 5': 0.6413, '98, 6': 0.657, '98, 7': 0.6551, '98, 8': 0.6532, '98, 9': 0.6491, '99, 1': 0.6361, '99, 2': 0.6253, '99, 3': 0.6459, '99, 4': 0.6503, '99, 5': 0.6486, '99, 6': 0.6342, '99, 7': 0.6567, '99, 8': 0.659, '99, 9': 0.6407}\n"
          ]
        }
      ]
    },
    {
      "cell_type": "code",
      "metadata": {
        "id": "PImnFn-Ngxfd",
        "outputId": "d568011c-9ee8-4211-9007-f690c6ac18ef",
        "colab": {
          "base_uri": "https://localhost:8080/",
          "height": 35
        }
      },
      "source": [
        "optimalAngle"
      ],
      "execution_count": 74,
      "outputs": [
        {
          "output_type": "execute_result",
          "data": {
            "application/vnd.google.colaboratory.intrinsic+json": {
              "type": "string"
            },
            "text/plain": [
              "'53, 6'"
            ]
          },
          "metadata": {},
          "execution_count": 74
        }
      ]
    },
    {
      "cell_type": "markdown",
      "metadata": {
        "id": "9lkDQ40Ag9-j"
      },
      "source": [
        "1. The best angle is at 53 with 6 number of augmentations with 68% accuracy. \n",
        "2. Best shear is at .75.\n",
        "The accuracy is not increased much with respective to augmentations. The accuract still ranges between 60-70 no matter what the augmentations we tried so far.\n"
      ]
    },
    {
      "cell_type": "code",
      "metadata": {
        "id": "miqVMEd-hvM4",
        "outputId": "4a269bbb-e1ed-4127-c6a2-b70718213134",
        "colab": {
          "base_uri": "https://localhost:8080/"
        }
      },
      "source": [
        "augmentedTrain(50, 1), augmentedTrain(50, 23), augmentedTrain(50, 12)"
      ],
      "execution_count": 75,
      "outputs": [
        {
          "output_type": "stream",
          "name": "stdout",
          "text": [
            "Accuracy after rotation augmentation is  0.6684\n",
            "Accuracy after rotation augmentation is  0.6797\n",
            "Accuracy after rotation augmentation is  0.6814\n"
          ]
        },
        {
          "output_type": "execute_result",
          "data": {
            "text/plain": [
              "(0.6684, 0.6797, 0.6814)"
            ]
          },
          "metadata": {},
          "execution_count": 75
        }
      ]
    },
    {
      "cell_type": "markdown",
      "metadata": {
        "id": "9RbXdvBWiNR1"
      },
      "source": [
        "2. As you can see the number of augmentations is not effecting the accuracy that much atleast for this augmentation."
      ]
    },
    {
      "cell_type": "code",
      "metadata": {
        "id": "meXwAgYNiB-X"
      },
      "source": [
        "def augmentedTrain(angleconstraint, nagumentations):\n",
        "    # hyperparameters\n",
        "    augdata = train_X # we include the original images also in the augmented dataset\n",
        "    auglabel = train_y\n",
        "    for ii in range(naugmentations):\n",
        "        augdata = np.concatenate((augdata, augRotate(train_X, angleconstraint))) # concatenate the augmented data to the set\n",
        "        auglabel = np.concatenate((auglabel, train_y))  # the labels don't change when we augmen\n",
        "        # check the test accuracy\n",
        "    testpred = NN(augdata, auglabel, test_X)\n",
        "    acc = Accuracy(test_y, testpred)\n",
        "    print('Accuracy after rotation augmentation is ',    acc)\n",
        "    return testpred, test_y"
      ],
      "execution_count": 78,
      "outputs": []
    },
    {
      "cell_type": "code",
      "metadata": {
        "id": "Qj6hqMOqmQG_"
      },
      "source": [
        "pred = NN(train_X, train_y, test_X)\n"
      ],
      "execution_count": 90,
      "outputs": []
    },
    {
      "cell_type": "code",
      "metadata": {
        "id": "Zyr1q0uDlDbK",
        "outputId": "604fa002-eb27-4084-af1b-c480504d9ee9",
        "colab": {
          "base_uri": "https://localhost:8080/"
        }
      },
      "source": [
        "pred, y = augmentedTrain(20, 5)"
      ],
      "execution_count": 80,
      "outputs": [
        {
          "output_type": "stream",
          "name": "stdout",
          "text": [
            "Accuracy after rotation augmentation is  0.6714\n"
          ]
        }
      ]
    },
    {
      "cell_type": "code",
      "metadata": {
        "id": "lxkn349tlIA_"
      },
      "source": [
        "#Test which are the most wrongly predicted numbers..........\n",
        "count = {}\n",
        "for x,z in zip(pred,test_y):\n",
        "    if x != z:\n",
        "        try:\n",
        "            count[z] += 1\n",
        "        except:\n",
        "            count[z] = 1"
      ],
      "execution_count": 91,
      "outputs": []
    },
    {
      "cell_type": "code",
      "metadata": {
        "id": "FT0_fG41lcZ6",
        "outputId": "3b362eb1-2c30-4fbb-8773-4f845d89f7b8",
        "colab": {
          "base_uri": "https://localhost:8080/"
        }
      },
      "source": [
        "count"
      ],
      "execution_count": 92,
      "outputs": [
        {
          "output_type": "execute_result",
          "data": {
            "text/plain": [
              "{0: 315, 1: 25, 2: 502, 3: 320, 4: 341, 5: 703, 6: 229, 7: 324, 8: 472, 9: 297}"
            ]
          },
          "metadata": {},
          "execution_count": 92
        }
      ]
    },
    {
      "cell_type": "code",
      "metadata": {
        "id": "lUzstj0Kp4uB",
        "outputId": "8426e7af-0b30-4ef3-80a2-ecc6a78ac549",
        "colab": {
          "base_uri": "https://localhost:8080/"
        }
      },
      "source": [
        "train_X.shape"
      ],
      "execution_count": 105,
      "outputs": [
        {
          "output_type": "execute_result",
          "data": {
            "text/plain": [
              "(50, 28, 28)"
            ]
          },
          "metadata": {},
          "execution_count": 105
        }
      ]
    },
    {
      "cell_type": "code",
      "metadata": {
        "id": "5uCr86cSlvuF"
      },
      "source": [
        "def augmentedTrain(angleconstraint, nagumentations):\n",
        "    # hyperparameters\n",
        "    augdata = train_X # we include the original images also in the augmented dataset\n",
        "    dat = train_X[train_y == 2].copy()\n",
        "    for x in range(5):\n",
        "        dat = np.concatenate((dat, augRotate(dat, rng.random(1)*10)))\n",
        "    print(dat.shape, augdata.shape)\n",
        "    auglabel = train_y.copy()\n",
        "    dat = np.concatenate((augdata, dat))\n",
        "    auglabel = np.concatenate((auglabel, np.array([2] * len(dat))))\n",
        "    testpred = NN(dat, auglabel, test_X)\n",
        "    acc = Accuracy(test_y, testpred)\n",
        "    print('Accuracy after rotation augmentation is ',    acc)\n",
        "    return testpred, test_y"
      ],
      "execution_count": 138,
      "outputs": []
    },
    {
      "cell_type": "code",
      "metadata": {
        "id": "DRYhz0A2ocxX",
        "outputId": "32170d2f-3134-4578-a8e6-d4c7003aabae",
        "colab": {
          "base_uri": "https://localhost:8080/"
        }
      },
      "source": [
        "augmentedTrain(10,1)"
      ],
      "execution_count": 139,
      "outputs": [
        {
          "output_type": "stream",
          "name": "stdout",
          "text": [
            "(128, 28, 28) (50, 28, 28)\n",
            "Accuracy after rotation augmentation is  0.6545\n"
          ]
        },
        {
          "output_type": "execute_result",
          "data": {
            "text/plain": [
              "(array([7, 2, 1, ..., 9, 9, 6]), array([7, 2, 1, ..., 4, 5, 6], dtype=uint8))"
            ]
          },
          "metadata": {},
          "execution_count": 139
        }
      ]
    },
    {
      "cell_type": "code",
      "metadata": {
        "id": "_vbQppStofb9"
      },
      "source": [
        ""
      ],
      "execution_count": null,
      "outputs": []
    },
    {
      "cell_type": "markdown",
      "metadata": {
        "id": "Os7pmvIzuw2E"
      },
      "source": [
        "I tried finding the numbers which are causing most of the errors. But even if the appropriate augmentations are made the accuracy is still between 60-70 percent."
      ]
    },
    {
      "cell_type": "code",
      "metadata": {
        "id": "6vi1tdptvcWq"
      },
      "source": [
        "#loading the dataset\n",
        "(train_X, train_y), (test_X, test_y) = mnist.load_data()\n",
        "train_X = train_X/255\n",
        "test_X = test_X/255\n",
        "\n",
        "train_X = train_X[::2500,:,:].copy() # subsample. Otherwise it will take too long!\n",
        "train_y = train_y[::2500].copy() # do the same to the labels\n"
      ],
      "execution_count": 178,
      "outputs": []
    },
    {
      "cell_type": "code",
      "metadata": {
        "id": "vQIlWNVWxFUg",
        "outputId": "51465e04-0590-4621-b080-10210a8c48f9",
        "colab": {
          "base_uri": "https://localhost:8080/"
        }
      },
      "source": [
        "train_X.shape"
      ],
      "execution_count": 179,
      "outputs": [
        {
          "output_type": "execute_result",
          "data": {
            "text/plain": [
              "(24, 28, 28)"
            ]
          },
          "metadata": {},
          "execution_count": 179
        }
      ]
    },
    {
      "cell_type": "code",
      "metadata": {
        "id": "ypiSdM0kvrFk",
        "outputId": "26838854-9046-457d-cfdb-2239db9e3737",
        "colab": {
          "base_uri": "https://localhost:8080/"
        }
      },
      "source": [
        "testpred = NN(train_X, train_y, test_X)\n",
        "print('Baseline accuracy without augmentation is ', Accuracy(test_y, testpred))"
      ],
      "execution_count": 180,
      "outputs": [
        {
          "output_type": "stream",
          "name": "stdout",
          "text": [
            "Baseline accuracy without augmentation is  0.5304\n"
          ]
        }
      ]
    },
    {
      "cell_type": "code",
      "metadata": {
        "id": "nEB8CcYIxu5G"
      },
      "source": [
        ""
      ],
      "execution_count": null,
      "outputs": []
    },
    {
      "cell_type": "markdown",
      "metadata": {
        "id": "EIqQkM2qxvk9"
      },
      "source": [
        "4. We must require atleast 24 length data set to achieve 50 percent accuracy."
      ]
    },
    {
      "cell_type": "code",
      "metadata": {
        "id": "vLffNmN6x8LE"
      },
      "source": [
        ""
      ],
      "execution_count": null,
      "outputs": []
    },
    {
      "cell_type": "markdown",
      "metadata": {
        "id": "rFnCq6oAuxOu"
      },
      "source": [
        ""
      ]
    }
  ]
}