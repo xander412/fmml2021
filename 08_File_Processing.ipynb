{
  "nbformat": 4,
  "nbformat_minor": 0,
  "metadata": {
    "colab": {
      "name": "08 File Processing.ipynb",
      "provenance": [],
      "include_colab_link": true
    },
    "kernelspec": {
      "name": "python3",
      "display_name": "Python 3"
    },
    "language_info": {
      "name": "python"
    }
  },
  "cells": [
    {
      "cell_type": "markdown",
      "metadata": {
        "id": "view-in-github",
        "colab_type": "text"
      },
      "source": [
        "<a href=\"https://colab.research.google.com/github/xander412/fmml2021/blob/main/08_File_Processing.ipynb\" target=\"_parent\"><img src=\"https://colab.research.google.com/assets/colab-badge.svg\" alt=\"Open In Colab\"/></a>"
      ]
    },
    {
      "cell_type": "code",
      "metadata": {
        "id": "on0OBs9S-eiS"
      },
      "source": [
        "!wget https://raw.githubusercontent.com/aosp-mirror/platform_external_protobuf/master/CONTRIBUTORS.txt"
      ],
      "execution_count": null,
      "outputs": []
    },
    {
      "cell_type": "code",
      "metadata": {
        "id": "Rg5LcpidAP7I"
      },
      "source": [
        "infile_pointer = open(\"CONTRIBUTORS.txt\", \"r\")\n",
        "outfile_pointer = open(\"emails-id.txt\", \"w\")"
      ],
      "execution_count": null,
      "outputs": []
    },
    {
      "cell_type": "code",
      "metadata": {
        "id": "4yocH5ViAb-g"
      },
      "source": [
        "for each_line in infile_pointer:\n",
        "  if (each_line.count('@') > 0) and (each_line.count('<') > 0):\n",
        "      print (each_line)\n",
        "      outfile_pointer.write(each_line)\n",
        "infile_pointer.close()\n",
        "outfile_pointer.close()"
      ],
      "execution_count": null,
      "outputs": []
    },
    {
      "cell_type": "code",
      "metadata": {
        "id": "jcMUd4hNCQiU",
        "outputId": "9a39fa59-466f-4fc1-f039-d9ca569e0552",
        "colab": {
          "base_uri": "https://localhost:8080/"
        }
      },
      "source": [
        "# https://github.com/mysql/mysql-server/blob/8.0/Docs/sp-imp-spec.txt\n",
        "# Write a program to save all lines that start with '-' in a separate file\n",
        "# Ignore all leading blank characters.\n",
        "!wget https://github.com/mysql/mysql-server/blob/8.0/Docs/sp-imp-spec.txt"
      ],
      "execution_count": 16,
      "outputs": [
        {
          "output_type": "stream",
          "name": "stdout",
          "text": [
            "--2021-09-12 11:24:04--  https://github.com/mysql/mysql-server/blob/8.0/Docs/sp-imp-spec.txt\n",
            "Resolving github.com (github.com)... 192.30.255.112\n",
            "Connecting to github.com (github.com)|192.30.255.112|:443... connected.\n",
            "HTTP request sent, awaiting response... 200 OK\n",
            "Length: unspecified [text/html]\n",
            "Saving to: ‘sp-imp-spec.txt.1’\n",
            "\n",
            "sp-imp-spec.txt.1       [ <=>                ] 371.35K  --.-KB/s    in 0.03s   \n",
            "\n",
            "2021-09-12 11:24:05 (13.7 MB/s) - ‘sp-imp-spec.txt.1’ saved [380262]\n",
            "\n"
          ]
        }
      ]
    },
    {
      "cell_type": "code",
      "metadata": {
        "id": "WnhXOUV3uavu"
      },
      "source": [
        "rm sp-imp-spec.txt.1"
      ],
      "execution_count": 29,
      "outputs": []
    },
    {
      "cell_type": "code",
      "metadata": {
        "id": "R8_rKCF4xJKb"
      },
      "source": [
        "rm sp-imp-spec.txt"
      ],
      "execution_count": 30,
      "outputs": []
    },
    {
      "cell_type": "code",
      "metadata": {
        "id": "CUdJdHErxMVL",
        "outputId": "6a805e23-78e4-47e7-d148-32ab5415fff0",
        "colab": {
          "base_uri": "https://localhost:8080/"
        }
      },
      "source": [
        "!wget https://raw.githubusercontent.com/mysql/mysql-server/8.0/Docs/sp-imp-spec.txt"
      ],
      "execution_count": 31,
      "outputs": [
        {
          "output_type": "stream",
          "name": "stdout",
          "text": [
            "--2021-09-12 11:29:30--  https://raw.githubusercontent.com/mysql/mysql-server/8.0/Docs/sp-imp-spec.txt\n",
            "Resolving raw.githubusercontent.com (raw.githubusercontent.com)... 185.199.109.133, 185.199.111.133, 185.199.110.133, ...\n",
            "Connecting to raw.githubusercontent.com (raw.githubusercontent.com)|185.199.109.133|:443... connected.\n",
            "HTTP request sent, awaiting response... 200 OK\n",
            "Length: 43014 (42K) [text/plain]\n",
            "Saving to: ‘sp-imp-spec.txt’\n",
            "\n",
            "sp-imp-spec.txt     100%[===================>]  42.01K  --.-KB/s    in 0.008s  \n",
            "\n",
            "2021-09-12 11:29:30 (5.28 MB/s) - ‘sp-imp-spec.txt’ saved [43014/43014]\n",
            "\n"
          ]
        }
      ]
    },
    {
      "cell_type": "code",
      "metadata": {
        "id": "0h-wtXejtKLx",
        "outputId": "f382da00-0377-4858-91df-325e1a4017d9",
        "colab": {
          "base_uri": "https://localhost:8080/"
        }
      },
      "source": [
        "import os\n",
        "print(os.path.abspath(__name__))\n",
        "with open(\"sp-imp-spec.txt\", 'r') as file:\n",
        "  with open('out.txt','w') as file1:\n",
        "    for line in file:\n",
        "      data = line\n",
        "      try:\n",
        "        if data.lstrip()[0] == '-':\n",
        "          file1.write(data + '\\n')\n",
        "      except IndexError:\n",
        "        pass"
      ],
      "execution_count": 35,
      "outputs": [
        {
          "output_type": "stream",
          "name": "stdout",
          "text": [
            "/content/__main__\n"
          ]
        }
      ]
    },
    {
      "cell_type": "code",
      "metadata": {
        "id": "Y1cKFKhexnGL"
      },
      "source": [
        ""
      ],
      "execution_count": null,
      "outputs": []
    },
    {
      "cell_type": "code",
      "metadata": {
        "id": "8OQH24Otxj_y"
      },
      "source": [
        ""
      ],
      "execution_count": null,
      "outputs": []
    },
    {
      "cell_type": "code",
      "metadata": {
        "id": "HG5BI0-2xURL",
        "outputId": "895eff9f-275f-4a08-8f17-9df09acfeb01",
        "colab": {
          "base_uri": "https://localhost:8080/"
        }
      },
      "source": [
        "cat out.txt"
      ],
      "execution_count": 36,
      "outputs": [
        {
          "output_type": "stream",
          "name": "stdout",
          "text": [
            "- How parsing and execution of queries work\n",
            "\n",
            "  - Lex (mentioned above) is the \"compiled\" query, that is the output from\n",
            "\n",
            "  - THD is the \"run-time\" state of a connection, containing all that is\n",
            "\n",
            "  - Item_*:  During parsing, all data is translated into \"items\", objects of\n",
            "\n",
            "- How to fit Stored Procedure into this scheme\n",
            "\n",
            "  - An overview of the classes and files for stored procedures\n",
            "\n",
            "    - class sp_head (sp_head.{cc,h})\n",
            "\n",
            "    - class sp_pcontext (sp_pcontext.{cc,h}\n",
            "\n",
            "    - class sp_instr (sp_head.{cc,h})\n",
            "\n",
            "      - sp_instr_stmt\n",
            "\n",
            "      - sp_instr_set\n",
            "\n",
            "      - sp_instr_jump\n",
            "\n",
            "      - sp_instr_jump_if_not\n",
            "\n",
            "      - sp_instr_freturn\n",
            "\n",
            "    - class sp_rcontext (sp_rcontext.h)\n",
            "\n",
            "    - class Item_splocal (Item.{cc,h})\n",
            "\n",
            "    - Utility functions (sp.{cc,h})\n",
            "\n",
            "  - Parsing CREATE PROCEDURE ...\n",
            "\n",
            "    - Parameters:\n",
            "\n",
            "    - Declared local variables:\n",
            "\n",
            "    - Local Variable references:\n",
            "\n",
            "    - Statements:\n",
            "\n",
            "    - SET var:\n",
            "\n",
            "    - Flow control:\n",
            "\n",
            "        - Forward jumps: When jumping forward, the exact destination is not\n",
            "\n",
            "        - Loop constructs have optional labels. If a loop doesn't have a\n",
            "\n",
            "        - There are two types of CASE. The \"simple\" case is implemented\n",
            "\n",
            "    - A simple example\n",
            "\n",
            "  - Parsing CREATE FUNCTION ...\n",
            "\n",
            "  - Storing, caching, dropping...\n",
            "\n",
            "  - CALLing a procedure\n",
            "\n",
            "    - USE database\n",
            "\n",
            "      - It's possible to write \"general\" procedures that are independent of\n",
            "\n",
            "      - It's possible to write procedures that work on a particular database\n",
            "\n",
            "    - Evaluating Items\n",
            "\n",
            "      - When SETing a variable\n",
            "\n",
            "      - When CALLing a procedure\n",
            "\n",
            "      - When testing an expression for a branch (in IF, WHILE, etc)\n",
            "\n",
            "  - Calling a FUNCTION\n",
            "\n",
            "    - Detecting and parsing a FUNCTION invocation\n",
            "\n",
            "    - Collecting FUNCTIONs to invoke\n",
            "\n",
            "      - We can't read and parse the FUNCTION from the mysql.proc table at the\n",
            "\n",
            "  - Parsing DROP PROCEDURE/FUNCTION\n",
            "\n",
            "  - Condition and Handlers\n",
            "\n",
            "    - sp_instr_hpush_jump\n",
            "\n",
            "    - sp_instr_hpop\n",
            "\n",
            "    - Examples:\n",
            "\n",
            "      - EXIT handler\n",
            "\n",
            "      - CONTINUE handler\n",
            "\n",
            "  - Cursors\n",
            "\n",
            "    - sp_instr_cpush\n",
            "\n",
            "    - sp_instr_cpop\n",
            "\n",
            "    - sp_instr_copen\n",
            "\n",
            "    - sp_instr_cfetch\n",
            "\n",
            "    - sp_instr_cclose\n",
            "\n",
            "    - Example:\n",
            "\n",
            "  - The SP cache\n",
            "\n",
            "  - Class and function APIs\n",
            "\n",
            "    - The parser context: sp_pcontext.h\n",
            "\n",
            "    - The run-time context (call frame): sp_rcontext.h\n",
            "\n",
            "    - The procedure: sp_head.h\n",
            "\n",
            "    - Instructions\n",
            "\n",
            "      - The base class:\n",
            "\n",
            "      - Statement instruction:\n",
            "\n",
            "     -  SET instruction:\n",
            "\n",
            "      - Unconditional jump\n",
            "\n",
            "      - Conditional jump\n",
            "\n",
            "      - Return a function value\n",
            "\n",
            "      - Push a handler and jump\n",
            "\n",
            "      - Pops handlers\n",
            "\n",
            "      - Return from a CONTINUE handler\n",
            "\n",
            "      - Push a CURSOR\n",
            "\n",
            "      - Pop CURSORs\n",
            "\n",
            "      - Open a CURSOR\n",
            "\n",
            "      - Close a CURSOR\n",
            "\n",
            "      - Fetch a row with CURSOR\n",
            "\n",
            "    - Utility functions: sp.h\n",
            "\n",
            "    - The cache: sp_cache.h\n",
            "\n",
            "  - The mysql.proc schema:\n",
            "\n",
            " --\n",
            "\n"
          ]
        }
      ]
    },
    {
      "cell_type": "code",
      "metadata": {
        "id": "3E9fIWyvxoHN"
      },
      "source": [
        ""
      ],
      "execution_count": null,
      "outputs": []
    },
    {
      "cell_type": "code",
      "metadata": {
        "id": "7wBOTHmExYV6"
      },
      "source": [
        ""
      ],
      "execution_count": null,
      "outputs": []
    },
    {
      "cell_type": "code",
      "metadata": {
        "id": "HAaKGVzSwEz-"
      },
      "source": [
        ""
      ],
      "execution_count": null,
      "outputs": []
    },
    {
      "cell_type": "code",
      "metadata": {
        "id": "E19ZAffXwIfV"
      },
      "source": [
        ""
      ],
      "execution_count": null,
      "outputs": []
    },
    {
      "cell_type": "code",
      "metadata": {
        "id": "liaeIF2WwGeE"
      },
      "source": [
        ""
      ],
      "execution_count": null,
      "outputs": []
    },
    {
      "cell_type": "code",
      "metadata": {
        "id": "ajtTyA_1vldZ"
      },
      "source": [
        ""
      ],
      "execution_count": null,
      "outputs": []
    },
    {
      "cell_type": "code",
      "metadata": {
        "id": "9u2lpznOviWy"
      },
      "source": [
        ""
      ],
      "execution_count": null,
      "outputs": []
    },
    {
      "cell_type": "code",
      "metadata": {
        "id": "yDoOUaXIvgWz"
      },
      "source": [
        ""
      ],
      "execution_count": null,
      "outputs": []
    },
    {
      "cell_type": "code",
      "metadata": {
        "id": "oMyaV49tvWnU"
      },
      "source": [
        ""
      ],
      "execution_count": null,
      "outputs": []
    },
    {
      "cell_type": "code",
      "metadata": {
        "id": "AgnVIhLtvBT1"
      },
      "source": [
        ""
      ],
      "execution_count": null,
      "outputs": []
    },
    {
      "cell_type": "code",
      "metadata": {
        "id": "OQhV7JaBu-iw"
      },
      "source": [
        ""
      ],
      "execution_count": null,
      "outputs": []
    },
    {
      "cell_type": "code",
      "metadata": {
        "id": "U4OM8fqduvXw"
      },
      "source": [
        ""
      ],
      "execution_count": null,
      "outputs": []
    },
    {
      "cell_type": "code",
      "metadata": {
        "id": "sHr_50zxul6a"
      },
      "source": [
        ""
      ],
      "execution_count": null,
      "outputs": []
    },
    {
      "cell_type": "code",
      "metadata": {
        "id": "PmYly1Q3udKe"
      },
      "source": [
        ""
      ],
      "execution_count": null,
      "outputs": []
    },
    {
      "cell_type": "code",
      "metadata": {
        "id": "X81i2L-auPaZ"
      },
      "source": [
        ""
      ],
      "execution_count": null,
      "outputs": []
    },
    {
      "cell_type": "markdown",
      "metadata": {
        "id": "CzILoddNaWPQ"
      },
      "source": [
        "Reference: [Official Python Documentation](https://docs.python.org/3/tutorial/inputoutput.html)\n",
        "\n",
        "String methods: [Link](https://www.w3schools.com/python/python_ref_string.asp)"
      ]
    }
  ]
}