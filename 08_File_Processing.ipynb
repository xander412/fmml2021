{
  "nbformat": 4,
  "nbformat_minor": 0,
  "metadata": {
    "colab": {
      "name": "08 File Processing.ipynb",
      "provenance": [],
      "include_colab_link": true
    },
    "kernelspec": {
      "name": "python3",
      "display_name": "Python 3"
    },
    "language_info": {
      "name": "python"
    }
  },
  "cells": [
    {
      "cell_type": "markdown",
      "metadata": {
        "id": "view-in-github",
        "colab_type": "text"
      },
      "source": [
        "<a href=\"https://colab.research.google.com/github/xander412/fmml2021/blob/main/08_File_Processing.ipynb\" target=\"_parent\"><img src=\"https://colab.research.google.com/assets/colab-badge.svg\" alt=\"Open In Colab\"/></a>"
      ]
    },
    {
      "cell_type": "code",
      "metadata": {
        "id": "on0OBs9S-eiS"
      },
      "source": [
        "!wget https://raw.githubusercontent.com/aosp-mirror/platform_external_protobuf/master/CONTRIBUTORS.txt"
      ],
      "execution_count": null,
      "outputs": []
    },
    {
      "cell_type": "code",
      "metadata": {
        "id": "Rg5LcpidAP7I"
      },
      "source": [
        "infile_pointer = open(\"CONTRIBUTORS.txt\", \"r\")\n",
        "outfile_pointer = open(\"emails-id.txt\", \"w\")"
      ],
      "execution_count": null,
      "outputs": []
    },
    {
      "cell_type": "code",
      "metadata": {
        "id": "4yocH5ViAb-g"
      },
      "source": [
        "for each_line in infile_pointer:\n",
        "  if (each_line.count('@') > 0) and (each_line.count('<') > 0):\n",
        "      print (each_line)\n",
        "      outfile_pointer.write(each_line)\n",
        "infile_pointer.close()\n",
        "outfile_pointer.close()"
      ],
      "execution_count": null,
      "outputs": []
    },
    {
      "cell_type": "code",
      "metadata": {
        "id": "jcMUd4hNCQiU",
        "colab": {
          "base_uri": "https://localhost:8080/"
        },
        "outputId": "9a39fa59-466f-4fc1-f039-d9ca569e0552"
      },
      "source": [
        "# https://github.com/mysql/mysql-server/blob/8.0/Docs/sp-imp-spec.txt\n",
        "# Write a program to save all lines that start with '-' in a separate file\n",
        "# Ignore all leading blank characters.\n",
        "!wget https://github.com/mysql/mysql-server/blob/8.0/Docs/sp-imp-spec.txt"
      ],
      "execution_count": null,
      "outputs": [
        {
          "output_type": "stream",
          "name": "stdout",
          "text": [
            "--2021-09-12 11:24:04--  https://github.com/mysql/mysql-server/blob/8.0/Docs/sp-imp-spec.txt\n",
            "Resolving github.com (github.com)... 192.30.255.112\n",
            "Connecting to github.com (github.com)|192.30.255.112|:443... connected.\n",
            "HTTP request sent, awaiting response... 200 OK\n",
            "Length: unspecified [text/html]\n",
            "Saving to: ‘sp-imp-spec.txt.1’\n",
            "\n",
            "sp-imp-spec.txt.1       [ <=>                ] 371.35K  --.-KB/s    in 0.03s   \n",
            "\n",
            "2021-09-12 11:24:05 (13.7 MB/s) - ‘sp-imp-spec.txt.1’ saved [380262]\n",
            "\n"
          ]
        }
      ]
    },
    {
      "cell_type": "code",
      "metadata": {
        "id": "WnhXOUV3uavu"
      },
      "source": [
        "rm sp-imp-spec.txt.1"
      ],
      "execution_count": null,
      "outputs": []
    },
    {
      "cell_type": "code",
      "metadata": {
        "id": "R8_rKCF4xJKb"
      },
      "source": [
        "rm sp-imp-spec.txt"
      ],
      "execution_count": null,
      "outputs": []
    },
    {
      "cell_type": "code",
      "metadata": {
        "id": "CUdJdHErxMVL",
        "colab": {
          "base_uri": "https://localhost:8080/"
        },
        "outputId": "68764c42-747d-4df9-a515-9dd6a30bf4f1"
      },
      "source": [
        "!wget https://raw.githubusercontent.com/mysql/mysql-server/8.0/Docs/sp-imp-spec.txt"
      ],
      "execution_count": 1,
      "outputs": [
        {
          "output_type": "stream",
          "name": "stdout",
          "text": [
            "--2021-09-13 09:08:57--  https://raw.githubusercontent.com/mysql/mysql-server/8.0/Docs/sp-imp-spec.txt\n",
            "Resolving raw.githubusercontent.com (raw.githubusercontent.com)... 185.199.111.133, 185.199.109.133, 185.199.108.133, ...\n",
            "Connecting to raw.githubusercontent.com (raw.githubusercontent.com)|185.199.111.133|:443... connected.\n",
            "HTTP request sent, awaiting response... 200 OK\n",
            "Length: 43014 (42K) [text/plain]\n",
            "Saving to: ‘sp-imp-spec.txt’\n",
            "\n",
            "sp-imp-spec.txt     100%[===================>]  42.01K  --.-KB/s    in 0.01s   \n",
            "\n",
            "2021-09-13 09:08:58 (3.39 MB/s) - ‘sp-imp-spec.txt’ saved [43014/43014]\n",
            "\n"
          ]
        }
      ]
    },
    {
      "cell_type": "code",
      "metadata": {
        "id": "0h-wtXejtKLx",
        "colab": {
          "base_uri": "https://localhost:8080/"
        },
        "outputId": "f264bc6f-150a-4994-9c5a-ee8d008d4b3e"
      },
      "source": [
        "import os\n",
        "print(os.path.abspath(__name__))\n",
        "with open(\"sp-imp-spec.txt\", 'r') as file:\n",
        "  with open('out.txt','w') as file1:\n",
        "    for line in file:\n",
        "      data = line\n",
        "      try:\n",
        "        if data.lstrip()[0] == '-':\n",
        "          file1.write(data)\n",
        "      except IndexError:\n",
        "        pass"
      ],
      "execution_count": 2,
      "outputs": [
        {
          "output_type": "stream",
          "name": "stdout",
          "text": [
            "/content/__main__\n"
          ]
        }
      ]
    },
    {
      "cell_type": "code",
      "metadata": {
        "id": "Y1cKFKhexnGL"
      },
      "source": [
        ""
      ],
      "execution_count": 2,
      "outputs": []
    },
    {
      "cell_type": "code",
      "metadata": {
        "id": "8OQH24Otxj_y"
      },
      "source": [
        ""
      ],
      "execution_count": 2,
      "outputs": []
    },
    {
      "cell_type": "code",
      "metadata": {
        "id": "HG5BI0-2xURL",
        "colab": {
          "base_uri": "https://localhost:8080/"
        },
        "outputId": "9761a597-9f17-434f-c6fb-d2df88129a10"
      },
      "source": [
        "cat out.txt"
      ],
      "execution_count": 3,
      "outputs": [
        {
          "output_type": "stream",
          "name": "stdout",
          "text": [
            "- How parsing and execution of queries work\n",
            "  - Lex (mentioned above) is the \"compiled\" query, that is the output from\n",
            "  - THD is the \"run-time\" state of a connection, containing all that is\n",
            "  - Item_*:  During parsing, all data is translated into \"items\", objects of\n",
            "- How to fit Stored Procedure into this scheme\n",
            "  - An overview of the classes and files for stored procedures\n",
            "    - class sp_head (sp_head.{cc,h})\n",
            "    - class sp_pcontext (sp_pcontext.{cc,h}\n",
            "    - class sp_instr (sp_head.{cc,h})\n",
            "      - sp_instr_stmt\n",
            "      - sp_instr_set\n",
            "      - sp_instr_jump\n",
            "      - sp_instr_jump_if_not\n",
            "      - sp_instr_freturn\n",
            "    - class sp_rcontext (sp_rcontext.h)\n",
            "    - class Item_splocal (Item.{cc,h})\n",
            "    - Utility functions (sp.{cc,h})\n",
            "  - Parsing CREATE PROCEDURE ...\n",
            "    - Parameters:\n",
            "    - Declared local variables:\n",
            "    - Local Variable references:\n",
            "    - Statements:\n",
            "    - SET var:\n",
            "    - Flow control:\n",
            "        - Forward jumps: When jumping forward, the exact destination is not\n",
            "        - Loop constructs have optional labels. If a loop doesn't have a\n",
            "        - There are two types of CASE. The \"simple\" case is implemented\n",
            "    - A simple example\n",
            "  - Parsing CREATE FUNCTION ...\n",
            "  - Storing, caching, dropping...\n",
            "  - CALLing a procedure\n",
            "    - USE database\n",
            "      - It's possible to write \"general\" procedures that are independent of\n",
            "      - It's possible to write procedures that work on a particular database\n",
            "    - Evaluating Items\n",
            "      - When SETing a variable\n",
            "      - When CALLing a procedure\n",
            "      - When testing an expression for a branch (in IF, WHILE, etc)\n",
            "  - Calling a FUNCTION\n",
            "    - Detecting and parsing a FUNCTION invocation\n",
            "    - Collecting FUNCTIONs to invoke\n",
            "      - We can't read and parse the FUNCTION from the mysql.proc table at the\n",
            "  - Parsing DROP PROCEDURE/FUNCTION\n",
            "  - Condition and Handlers\n",
            "    - sp_instr_hpush_jump\n",
            "    - sp_instr_hpop\n",
            "    - Examples:\n",
            "      - EXIT handler\n",
            "      - CONTINUE handler\n",
            "  - Cursors\n",
            "    - sp_instr_cpush\n",
            "    - sp_instr_cpop\n",
            "    - sp_instr_copen\n",
            "    - sp_instr_cfetch\n",
            "    - sp_instr_cclose\n",
            "    - Example:\n",
            "  - The SP cache\n",
            "  - Class and function APIs\n",
            "    - The parser context: sp_pcontext.h\n",
            "    - The run-time context (call frame): sp_rcontext.h\n",
            "    - The procedure: sp_head.h\n",
            "    - Instructions\n",
            "      - The base class:\n",
            "      - Statement instruction:\n",
            "     -  SET instruction:\n",
            "      - Unconditional jump\n",
            "      - Conditional jump\n",
            "      - Return a function value\n",
            "      - Push a handler and jump\n",
            "      - Pops handlers\n",
            "      - Return from a CONTINUE handler\n",
            "      - Push a CURSOR\n",
            "      - Pop CURSORs\n",
            "      - Open a CURSOR\n",
            "      - Close a CURSOR\n",
            "      - Fetch a row with CURSOR\n",
            "    - Utility functions: sp.h\n",
            "    - The cache: sp_cache.h\n",
            "  - The mysql.proc schema:\n",
            " --\n"
          ]
        }
      ]
    },
    {
      "cell_type": "code",
      "metadata": {
        "id": "3E9fIWyvxoHN"
      },
      "source": [
        ""
      ],
      "execution_count": 3,
      "outputs": []
    },
    {
      "cell_type": "code",
      "metadata": {
        "id": "7wBOTHmExYV6"
      },
      "source": [
        ""
      ],
      "execution_count": 3,
      "outputs": []
    },
    {
      "cell_type": "code",
      "metadata": {
        "id": "HAaKGVzSwEz-"
      },
      "source": [
        ""
      ],
      "execution_count": 3,
      "outputs": []
    },
    {
      "cell_type": "code",
      "metadata": {
        "id": "E19ZAffXwIfV"
      },
      "source": [
        ""
      ],
      "execution_count": 3,
      "outputs": []
    },
    {
      "cell_type": "code",
      "metadata": {
        "id": "liaeIF2WwGeE"
      },
      "source": [
        ""
      ],
      "execution_count": 3,
      "outputs": []
    },
    {
      "cell_type": "code",
      "metadata": {
        "id": "ajtTyA_1vldZ"
      },
      "source": [
        ""
      ],
      "execution_count": 3,
      "outputs": []
    },
    {
      "cell_type": "code",
      "metadata": {
        "id": "9u2lpznOviWy"
      },
      "source": [
        ""
      ],
      "execution_count": 3,
      "outputs": []
    },
    {
      "cell_type": "code",
      "metadata": {
        "id": "yDoOUaXIvgWz"
      },
      "source": [
        ""
      ],
      "execution_count": 3,
      "outputs": []
    },
    {
      "cell_type": "code",
      "metadata": {
        "id": "oMyaV49tvWnU"
      },
      "source": [
        ""
      ],
      "execution_count": 3,
      "outputs": []
    },
    {
      "cell_type": "code",
      "metadata": {
        "id": "AgnVIhLtvBT1"
      },
      "source": [
        ""
      ],
      "execution_count": 3,
      "outputs": []
    },
    {
      "cell_type": "code",
      "metadata": {
        "id": "OQhV7JaBu-iw"
      },
      "source": [
        ""
      ],
      "execution_count": 3,
      "outputs": []
    },
    {
      "cell_type": "code",
      "metadata": {
        "id": "U4OM8fqduvXw"
      },
      "source": [
        ""
      ],
      "execution_count": 3,
      "outputs": []
    },
    {
      "cell_type": "code",
      "metadata": {
        "id": "sHr_50zxul6a"
      },
      "source": [
        ""
      ],
      "execution_count": 3,
      "outputs": []
    },
    {
      "cell_type": "code",
      "metadata": {
        "id": "PmYly1Q3udKe"
      },
      "source": [
        ""
      ],
      "execution_count": 3,
      "outputs": []
    },
    {
      "cell_type": "code",
      "metadata": {
        "id": "X81i2L-auPaZ"
      },
      "source": [
        ""
      ],
      "execution_count": 3,
      "outputs": []
    },
    {
      "cell_type": "markdown",
      "metadata": {
        "id": "CzILoddNaWPQ"
      },
      "source": [
        "Reference: [Official Python Documentation](https://docs.python.org/3/tutorial/inputoutput.html)\n",
        "\n",
        "String methods: [Link](https://www.w3schools.com/python/python_ref_string.asp)"
      ]
    }
  ]
}